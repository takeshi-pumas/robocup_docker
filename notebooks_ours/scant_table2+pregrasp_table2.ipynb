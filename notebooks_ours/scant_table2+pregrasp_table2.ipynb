{
 "cells": [
  {
   "cell_type": "markdown",
   "metadata": {
    "lang": "en"
   },
   "source": [
    "## Setup"
   ]
  },
  {
   "cell_type": "markdown",
   "metadata": {
    "lang": "ja"
   },
   "source": [
    "必要なライブラリをインポートして、初期化を行います。"
   ]
  },
  {
   "cell_type": "markdown",
   "metadata": {
    "lang": "en"
   },
   "source": [
    "Import the required libraries and initialize them:"
   ]
  },
  {
   "cell_type": "code",
   "execution_count": 1,
   "metadata": {},
   "outputs": [],
   "source": [
    "%matplotlib inline\n",
    "import matplotlib.pyplot as plt\n",
    "import numpy as np\n",
    "import ros_numpy\n",
    "import rospy\n",
    "import tf\n",
    "from gazebo_ros import gazebo_interface\n",
    "from sensor_msgs.msg import LaserScan, PointCloud2\n",
    "from geometry_msgs.msg import Pose, Quaternion ,TransformStamped,PoseStamped\n",
    "import tf2_ros\n",
    "import sys\n",
    "from sklearn.decomposition import PCA\n",
    "from utils import *\n",
    "import cv2\n",
    "import os\n",
    "import math as m\n",
    "\n",
    "from utils_takeshi import *\n",
    "rgbd = RGBD()\n",
    "scene = moveit_commander.PlanningSceneInterface()"
   ]
  },
  {
   "cell_type": "code",
   "execution_count": 2,
   "metadata": {},
   "outputs": [
    {
     "name": "stdout",
     "output_type": "stream",
     "text": [
      "Starting job # 0 in a separate thread.\n"
     ]
    }
   ],
   "source": [
    "%%script bash --bg\n",
    "rviz -d data/task1.rviz > /dev/null 2>&1"
   ]
  },
  {
   "cell_type": "code",
   "execution_count": 3,
   "metadata": {},
   "outputs": [],
   "source": [
    "\n",
    "rospy.init_node(\"recognition\")\n"
   ]
  },
  {
   "cell_type": "code",
   "execution_count": 4,
   "metadata": {},
   "outputs": [],
   "source": [
    "def add_object(name, size, pose, orientation):\n",
    "    p = PoseStamped()\n",
    "    p.header.frame_id = \"map\"       # \"head_rgbd_sensor_link\"\n",
    "    \n",
    "    p.pose.position.x = pose[0]\n",
    "    p.pose.position.y = pose[1]\n",
    "    p.pose.position.z = pose[2]\n",
    "\n",
    "    p.pose.orientation.x = orientation[0] * np.pi\n",
    "    p.pose.orientation.y = orientation[1] * np.pi\n",
    "    p.pose.orientation.z = orientation[2] * np.pi\n",
    "    p.pose.orientation.w = orientation[3] * np.pi\n",
    "\n",
    "    scene.add_box(name, p, size)\n",
    "\n",
    "\n",
    "def publish_scene():\n",
    "    add_object(\"shelf\", [1.5, 0.04, 0.4],  [2.5, 4.85, 0.78],  [0.5,0,0,0.5])\n",
    "    add_object(\"shelf1\", [1.5, 0.04, 0.4], [2.5, 4.85, 0.49], [0.5,0,0, 0.5])\n",
    "    add_object(\"shelf2\", [1.5, 0.04, 0.4], [2.5, 4.85, 0.18], [0.5,0,0, 0.5])\n",
    "    add_object(\"shelf_wall\", [1, 1, 0.04], [2.5, 4.9, 0.5], [0.5,0,0, 0.5])\n",
    "    add_object(\"shelf_wall1\", [.04, 1, 0.4], [2.7, 4.9, 0.5],[0.5,0,0, 0.5])\n",
    "    add_object(\"shelf_wall2\", [.04, 1, 0.4], [1.8, 4.9, 0.5], [0.5,0,0 ,0.5])    \n",
    "    add_object(\"table_big\", [1.5, 0.13, 0.5], [0.95, 1.9, 0.34],  [0.5,0,0, 0.5])\n",
    "    add_object(\"table_big_legs1\",[.01,.6,.2], [1.55,1.8,0.1],       [0.5,0,0, 0.5])\n",
    "    add_object(\"table_big_legs2\",[.01,.6,.2], [0.45,1.8,0.1],       [0.5,0,0 ,0.5])\n",
    "    add_object(\"table_small\", [0.9, 0.02, 0.4], [-0.2, 1.85, 0.61],  [0.5,0,0 ,0.5])\n",
    "    add_object(\"table_small_legs1\",[.01,.6,.2], [-0.3,1.75,0.3],      [0.5,0,0, 0.5])\n",
    "    add_object(\"table_small_legs2\",[.01,.6,.2], [0.1,1.75,0.3], [0.5,0,0 ,0.5])\n",
    "    add_object(\"table_tray\", [0.65, 0.01, 0.7], [1.8, -0.65, 0.4], [0.5,0,0, 0.5])\n",
    "    add_object(\"big_wall\" , [6.0, 0.2, 0.2], [3.2,  2.0, 0.0],  [0,0.0,0.5 ,0.5])\n",
    "    add_object(\"mid_wall\" , [4.0, 0.2, 0.2], [0.1,  2.1, 0.0],  [0,0.0,0.0 ,1/np.pi])##COME ON.....\n",
    "    add_object(\"door_wall\" , [5.0, 0.2, 0.2], [-0.8, 2.8, 0.0],  [0,0.0,0.5 ,0.5     ])\n",
    "    add_object(\"close_wall\", [4.0, 0.2, 0.2], [1.1, -0.5, 0.0],  [0,0.0,0.0 ,1/np.pi])##COME ON.....\n",
    "    add_object(\"far_wall\",   [4.0, 0.2, 0.2], [1.1, 5.0, 0.0],  [0,0.0,0.0 ,1/np.pi])##COME ON.....\n",
    "    \n",
    "\n",
    "    return True"
   ]
  },
  {
   "cell_type": "code",
   "execution_count": 5,
   "metadata": {},
   "outputs": [
    {
     "data": {
      "text/plain": [
       "True"
      ]
     },
     "execution_count": 5,
     "metadata": {},
     "output_type": "execute_result"
    }
   ],
   "source": [
    "publish_scene()\n",
    "#scene.remove_world_object()"
   ]
  },
  {
   "cell_type": "code",
   "execution_count": 6,
   "metadata": {},
   "outputs": [],
   "source": [
    "\n",
    "def seg_pca(lower=2000,higher=50000,reg_ly=0,reg_hy=1000): \n",
    "    image= rgbd.get_h_image()\n",
    "    points_data= rgbd.get_points()\n",
    "    values=image.reshape((-1,3))\n",
    "    values= np.float32(values)\n",
    "    criteria= (  cv2.TERM_CRITERIA_EPS + cv2.TERM_CRITERIA_MAX_ITER  ,1000,0.1)\n",
    "    k=6\n",
    "    _ , labels , cc =cv2.kmeans(values , k ,None,criteria,30,cv2.KMEANS_RANDOM_CENTERS)\n",
    "    cc=np.uint8(cc)\n",
    "    segmented_image= cc[labels.flatten()]\n",
    "    segmented_image=segmented_image.reshape(image.shape)\n",
    "    th3 = cv2.adaptiveThreshold(segmented_image,255,cv2.ADAPTIVE_THRESH_GAUSSIAN_C,cv2.THRESH_BINARY,11,2)\n",
    "    kernel = np.ones((5,5),np.uint8)\n",
    "    im4=cv2.erode(th3,kernel,iterations=4)\n",
    "    plane_mask=points_data['z']\n",
    "    cv2_img=plane_mask.astype('uint8')\n",
    "    img=im4\n",
    "    _,contours, hierarchy = cv2.findContours(im4.astype('uint8'),cv2.RETR_TREE,cv2.CHAIN_APPROX_SIMPLE)\n",
    "    i=0\n",
    "    cents=[]\n",
    "    points=[]\n",
    "    for i, contour in enumerate(contours):\n",
    "        \n",
    "        area = cv2.contourArea(contour)\n",
    "\n",
    "        if area > lower and area < higher :\n",
    "            M = cv2.moments(contour)\n",
    "            # calculate x,y coordinate of center\n",
    "            cX = int(M[\"m10\"] / M[\"m00\"])\n",
    "            cY = int(M[\"m01\"] / M[\"m00\"])\n",
    "            \n",
    "    \n",
    "            boundRect = cv2.boundingRect(contour)\n",
    "            #just for drawing rect, dont waste too much time on this\n",
    "\n",
    "            img=cv2.rectangle(img,(boundRect[0], boundRect[1]),(boundRect[0]+boundRect[2], boundRect[1]+boundRect[3]), (0,0,0), 2)\n",
    "            # calculate moments for each contour\n",
    "            if (cY > reg_ly and cY < reg_hy  ):\n",
    "                \n",
    "                cv2.circle(img, (cX, cY), 5, (255, 255, 255), -1)\n",
    "                cv2.putText(img, \"centroid_\"+str(i)+\"_\"+str(cX)+','+str(cY)    ,    (cX - 25, cY - 25)   ,cv2.FONT_HERSHEY_SIMPLEX, 0.9, (0, 0, 0), 2)\n",
    "                print ('cX,cY',cX,cY)\n",
    "                xyz=[]\n",
    "\n",
    "\n",
    "                for jy in range (boundRect[0], boundRect[0]+boundRect[2]):\n",
    "                    for ix in range(boundRect[1], boundRect[1]+boundRect[3]):\n",
    "                        aux=(np.asarray((points_data['x'][ix,jy],points_data['y'][ix,jy],points_data['z'][ix,jy])))\n",
    "                        if np.isnan(aux[0]) or np.isnan(aux[1]) or np.isnan(aux[2]):\n",
    "                            'reject point'\n",
    "                        else:\n",
    "                            xyz.append(aux)\n",
    "\n",
    "                xyz=np.asarray(xyz)\n",
    "                cent=xyz.mean(axis=0)\n",
    "                cents.append(cent)\n",
    "                print (cent)\n",
    "                points.append(xyz)\n",
    "            else:\n",
    "                print ('cent out of region... rejected')\n",
    "            \n",
    "    cents=np.asarray(cents)\n",
    "    plt.imshow(im4)\n",
    "    ### returns centroids found and a group of 3d coordinates that conform the centroid\n",
    "    return(cents,np.asarray(points))\n",
    "\n",
    "\n",
    "\n",
    "def static_tf_publish(cents, quaternions=[]):\n",
    "    if (len(quaternions))==0:\n",
    "        quats=np.zeros((len(cents),4)) \n",
    "        quats[:,3]=1\n",
    "        print quats\n",
    "    else:\n",
    "        quats=np.asarray(quaternions)\n",
    "        print quats\n",
    "    for  i ,cent  in enumerate(cents):\n",
    "        x,y,z=cent\n",
    "        if np.isnan(x) or np.isnan(y) or np.isnan(z):\n",
    "            print('nan')\n",
    "        else:\n",
    "            #### first place a dissolving tf wrt head sensor  in centroids\n",
    "            broadcaster.sendTransform((x,y,z),rot, rospy.Time.now(), 'Closest_Object'+str(i),\"head_rgbd_sensor_link\")\n",
    "            rospy.sleep(.2)\n",
    "            \n",
    "            #### then place each centr wrt map\n",
    "            xyz_map,cent_quat= listener.lookupTransform('/map', 'Closest_Object'+str(i),rospy.Time(0))\n",
    "            map_euler=tf.transformations.euler_from_quaternion(cent_quat)\n",
    "            rospy.sleep(.2)\n",
    "            static_transformStamped = TransformStamped()\n",
    "\n",
    "            ##FIXING TF TO MAP ( ODOM REALLY)    \n",
    "            #tf_broadcaster1.sendTransform( (xyz[0],xyz[1],xyz[2]),tf.transformations.quaternion_from_euler(0, 0, 0), rospy.Time.now(), \"obj\"+str(ind), \"head_rgbd_sensor_link\")\n",
    "            ## Finally boiradcast a static tf  in cents and with quaternion found  in pca\n",
    "            static_transformStamped.header.stamp = rospy.Time.now()\n",
    "            static_transformStamped.header.frame_id = \"map\"\n",
    "            static_transformStamped.child_frame_id = \"static\"+str(i)\n",
    "            static_transformStamped.transform.translation.x = float(xyz_map[0])\n",
    "            static_transformStamped.transform.translation.y = float(xyz_map[1])\n",
    "            static_transformStamped.transform.translation.z = float(xyz_map[2])\n",
    "            #quat = tf.transformations.quaternion_from_euler(-euler[0],0,1.5)\n",
    "            static_transformStamped.transform.rotation.x = quats [i,0]#-quat[0]#trans.transform.rotation.x\n",
    "            static_transformStamped.transform.rotation.y = quats [i,1]#-quat[1]#trans.transform.rotation.y\n",
    "            static_transformStamped.transform.rotation.z = quats [i,2]#-quat[2]#trans.transform.rotation.z\n",
    "            static_transformStamped.transform.rotation.w = quats [i,3]#-quat[3]#trans.transform.rotation.w\n",
    "\n",
    "\n",
    "            tf_static_broadcaster.sendTransform(static_transformStamped)\n",
    "    return True\n",
    "\n",
    "\n"
   ]
  },
  {
   "cell_type": "code",
   "execution_count": 7,
   "metadata": {},
   "outputs": [],
   "source": [
    "def lineup_table():\n",
    "    \n",
    "    cv2_img=rgbd.get_image()\n",
    "    img=cv2.cvtColor(cv2_img, cv2.COLOR_BGR2GRAY)\n",
    "    img=cv2.Canny(img,80,200)\n",
    "    lines = cv2.HoughLines(img,1,np.pi/180,150)\n",
    "    first=True\n",
    "    if len(lines) ==0:\n",
    "        return False\n",
    "    for line in lines:\n",
    "        for rho,theta in line:\n",
    "            a = np.cos(theta)\n",
    "            b = np.sin(theta)\n",
    "            x0 = a*rho\n",
    "            y0 = b*rho\n",
    "            x1 = int(x0 + 1000*(-b))\n",
    "            y1 = int(y0 + 1000*(a))\n",
    "            x2 = int(x0 - 1000*(-b))\n",
    "            y2 = int(y0 - 1000*(a))\n",
    "            size=12\n",
    "            if first:\n",
    "                size=52\n",
    "                first=False\n",
    "\n",
    "            img=cv2.line(img,(x1,y1),(x2,y2),(255,255,255),size)\n",
    "\n",
    "    #\n",
    "    plt.imshow(img)\n",
    "    wb=whole_body.get_current_joint_values()\n",
    "    wb[2]+=-(lines[0,0,1]-.5*np.pi)\n",
    "    if (np.isclose(lines[0,0,1], [1.57], atol=0.3)):\n",
    "        succ=whole_body.go(wb)\n",
    "    \n",
    "    lines=np.asarray(lines)\n",
    "    l=len(lines)\n",
    "    lines=lines.ravel().reshape(l,2)\n",
    "    table_limit_px=[]\n",
    "    for line in lines :\n",
    "        if (np.isclose(line[1], [1.57], atol=0.1)):\n",
    "            table_limit_px.append(line[0])\n",
    "    table_region=np.asarray([np.min(table_limit_px), np.max(table_limit_px)])\n",
    "    print (table_region)\n",
    "    \n",
    "    return table_region \n"
   ]
  },
  {
   "cell_type": "code",
   "execution_count": 8,
   "metadata": {},
   "outputs": [],
   "source": [
    "wb_pre_table2_above=[1.084975040241123,\n",
    " -0.04307911400795569,\n",
    " 1.6411492988890584,\n",
    " 0.6298913727372194,\n",
    " -1.675184695826223,\n",
    " -0.027761353326655414,\n",
    " -1.5948988328043532,\n",
    " 0.22356862963362012,\n",
    " 0.0]\n",
    "grasp_above_quat=[0.9187459 , 0.39460334, 0.00316647, 0.01357017]\n",
    "grasp_table_quat=[0.26902404, -0.49059563,  0.29007591,  0.77640065]\n",
    "#[0.8304410115010846,  0.04420647325614396,  -0.07858377919769033,  -0.5497618609782944]\n",
    "#[-0.66287263,  0.15990841, -0.71777268, -0.14082457]\n"
   ]
  },
  {
   "cell_type": "code",
   "execution_count": null,
   "metadata": {},
   "outputs": [],
   "source": []
  },
  {
   "cell_type": "code",
   "execution_count": null,
   "metadata": {},
   "outputs": [],
   "source": []
  },
  {
   "cell_type": "code",
   "execution_count": null,
   "metadata": {},
   "outputs": [],
   "source": []
  },
  {
   "cell_type": "code",
   "execution_count": null,
   "metadata": {},
   "outputs": [],
   "source": []
  },
  {
   "cell_type": "code",
   "execution_count": null,
   "metadata": {},
   "outputs": [],
   "source": []
  },
  {
   "cell_type": "code",
   "execution_count": null,
   "metadata": {},
   "outputs": [],
   "source": []
  },
  {
   "cell_type": "code",
   "execution_count": null,
   "metadata": {},
   "outputs": [],
   "source": []
  },
  {
   "cell_type": "code",
   "execution_count": 9,
   "metadata": {},
   "outputs": [],
   "source": [
    "listener = tf.TransformListener()\n",
    "broadcaster= tf.TransformBroadcaster()\n",
    "tf_static_broadcaster= tf2_ros.StaticTransformBroadcaster()\n",
    "import moveit_commander\n",
    "import moveit_msgs.msg\n",
    "###might take some time to load all those takeshi meshes in rviz\n",
    "\n",
    "head = moveit_commander.MoveGroupCommander('head')\n",
    "arm = moveit_commander.MoveGroupCommander('arm')\n",
    "whole_body = moveit_commander.MoveGroupCommander('whole_body_light')\n",
    "whole_body.set_workspace([-10.0, -10.0, 10.0, 10.0])"
   ]
  },
  {
   "cell_type": "code",
   "execution_count": 10,
   "metadata": {
    "lang": "en"
   },
   "outputs": [],
   "source": [
    "from move_base_msgs.msg import MoveBaseAction, MoveBaseGoal\n",
    "from geometry_msgs.msg import PoseStamped, Point , Quaternion\n",
    "from actionlib_msgs.msg import GoalStatus"
   ]
  },
  {
   "cell_type": "code",
   "execution_count": 11,
   "metadata": {},
   "outputs": [],
   "source": [
    "tries=0"
   ]
  },
  {
   "cell_type": "markdown",
   "metadata": {},
   "source": [
    "<a id='start'>  Start</a>"
   ]
  },
  {
   "cell_type": "code",
   "execution_count": 12,
   "metadata": {},
   "outputs": [
    {
     "data": {
      "text/plain": [
       "0"
      ]
     },
     "execution_count": 12,
     "metadata": {},
     "output_type": "execute_result"
    }
   ],
   "source": [
    "### TAKE ROBOT TO TABLE WITH OBJECTS ( IDEALLY 45degs)\n",
    "kl_table2\n",
    "tries"
   ]
  },
  {
   "cell_type": "code",
   "execution_count": 20,
   "metadata": {},
   "outputs": [],
   "source": [
    "publish_scene()\n",
    "tries+=1\n",
    "arm.set_named_target('go')\n",
    "arm.go()\n",
    "head.set_named_target('neutral')\n",
    "head.go()\n",
    "goal_x , goal_y, goal_yaw = kl_table2\n",
    "succ = move_base_goal(goal_x+(tries%3)*.1-.2, goal_y-.1 , goal_yaw+90)      \n",
    "\n",
    "head.set_named_target('neutral')\n",
    "head.go()\n",
    "\n",
    "arm.set_joint_value_target(arm_grasp_table)\n",
    "arm.go()\n",
    "wb= whole_body.get_current_joint_values()\n",
    "wb[3]+=.1\n",
    "succ=whole_body.go(wb)"
   ]
  },
  {
   "cell_type": "code",
   "execution_count": 21,
   "metadata": {},
   "outputs": [
    {
     "name": "stdout",
     "output_type": "stream",
     "text": [
      "[134. 346.]\n"
     ]
    },
    {
     "data": {
      "text/plain": [
       "True"
      ]
     },
     "execution_count": 21,
     "metadata": {},
     "output_type": "execute_result"
    },
    {
     "data": {
      "image/png": "[encoded data removed]",
      "text/plain": [
       "<Figure size 432x288 with 1 Axes>"
      ]
     },
     "metadata": {
      "needs_background": "light"
     },
     "output_type": "display_data"
    }
   ],
   "source": [
    "\n",
    "head_val=head.get_current_joint_values()\n",
    "head_val[0]=np.deg2rad(-90)\n",
    "head_val[1]=np.deg2rad(-45)\n",
    "head.go(head_val)\n",
    "\n",
    "table_region=lineup_table()\n",
    "\n",
    "publish_scene()"
   ]
  },
  {
   "cell_type": "code",
   "execution_count": 22,
   "metadata": {},
   "outputs": [],
   "source": [
    "aux=0\n",
    "while abs(table_region[1]-table_region[0]) < 100 :\n",
    "    aux+=1\n",
    "    if aux== 5:\n",
    "        break\n",
    "        #return 'failed'\n",
    "    table_region=lineup_table()"
   ]
  },
  {
   "cell_type": "code",
   "execution_count": 25,
   "metadata": {},
   "outputs": [
    {
     "name": "stdout",
     "output_type": "stream",
     "text": [
      "cent out of region... rejected\n",
      "cent out of region... rejected\n",
      "cent out of region... rejected\n",
      "('cX,cY', 350, 179)\n",
      "[ 0.05363401 -0.10601883  0.975228  ]\n",
      "[[-0.00231721  0.01071079 -0.9177592   0.39698609]]\n",
      "centroids wrt map[[0.027732411983028404, 1.9090687562606095, 0.6090803216099936]]\n",
      "Closest Cent 0\n"
     ]
    },
    {
     "data": {
      "image/png": "[encoded data removed]",
      "text/plain": [
       "<Figure size 432x288 with 1 Axes>"
      ]
     },
     "metadata": {
      "needs_background": "light"
     },
     "output_type": "display_data"
    }
   ],
   "source": [
    "trans , rot = listener.lookupTransform('/map', '/head_rgbd_sensor_gazebo_frame', rospy.Time(0))\n",
    "cents, xyz = seg_pca(2000,30000,table_region[0],table_region[1])\n",
    "quats=pca_xyz(xyz)\n",
    "static_tf_publish(cents,quats)\n",
    "trans_cents=[]\n",
    "for i, cent in enumerate(cents):\n",
    "    try:\n",
    "        trans_map, _ = listener.lookupTransform('/map', 'static' + str(i), rospy.Time(0))\n",
    "    except (tf2_ros.LookupException, tf2_ros.ConnectivityException, tf2_ros.ExtrapolationException):\n",
    "        \n",
    "        continue\n",
    "\n",
    "    trans_cents.append(trans_map)\n",
    "\n",
    "print(\"centroids wrt map\" + str(trans_cents))\n",
    "if len(trans_cents) !=0:\n",
    "\n",
    "    np.linalg.norm(np.asarray(trans_cents) - trans , axis = 1)\n",
    "    closest_cent = np.argmin(np.linalg.norm(np.asarray(trans_cents) - trans , axis = 1))\n",
    "    print(\"Closest Cent \" + str(closest_cent))"
   ]
  },
  {
   "cell_type": "code",
   "execution_count": null,
   "metadata": {},
   "outputs": [],
   "source": []
  },
  {
   "cell_type": "code",
   "execution_count": null,
   "metadata": {},
   "outputs": [],
   "source": []
  },
  {
   "cell_type": "code",
   "execution_count": 27,
   "metadata": {},
   "outputs": [
    {
     "name": "stdout",
     "output_type": "stream",
     "text": [
      "Grasp Table recommended\n"
     ]
    },
    {
     "data": {
      "text/plain": [
       "array([-0.00231721,  0.01071079, -0.9177592 ,  0.39698609])"
      ]
     },
     "execution_count": 27,
     "metadata": {},
     "output_type": "execute_result"
    }
   ],
   "source": [
    "a = quats[closest_cent]\n",
    "\n",
    "if np.linalg.norm(a - np.asarray(grasp_table_quat)) > (np.linalg.norm(a - np.asarray(grasp_above_quat))):\n",
    "    print ('Grasp from above recommended')\n",
    "    grasp_above=True\n",
    "else:\n",
    "    print('Grasp Table recommended')\n",
    "    grasp_above=False\n",
    "a"
   ]
  },
  {
   "cell_type": "code",
   "execution_count": 28,
   "metadata": {},
   "outputs": [],
   "source": [
    "grasp_above=True"
   ]
  },
  {
   "cell_type": "code",
   "execution_count": 29,
   "metadata": {},
   "outputs": [
    {
     "name": "stdout",
     "output_type": "stream",
     "text": [
      " ABOVE PREGRASP\n",
      "[0.6565718980088122, 0.05214190719416137, 0.13116168771440406]\n"
     ]
    }
   ],
   "source": [
    "##PREGRASPS\n",
    "####\n",
    "move_hand(1)\n",
    "if  (grasp_above!=True):#or(np.asarray(cents[closest_cent])[2]>0.9):\n",
    "    print 'TABLE PREGRASP'\n",
    "    grasp_above=False\n",
    "    head.set_named_target('neutral')\n",
    "    head.go()\n",
    "    move_hand(1)\n",
    "    goal_x , goal_y, goal_yaw = kl_table2\n",
    "    wb= whole_body.get_current_joint_values()\n",
    "    wb[0]=goal_y-0.5\n",
    "    wb[1]=goal_x\n",
    "    wb[2]=np.deg2rad(goal_yaw)\n",
    "    wb[3:]=arm_grasp_table\n",
    "    wb[3] = .6\n",
    "    whole_body.go(wb)\n",
    "else:\n",
    "    print ' ABOVE PREGRASP'\n",
    "    whole_body.go(wb_pre_table2_above)\n",
    "    head.set_named_target('neutral')\n",
    "    head.go()\n",
    "    move_hand(1)\n",
    "    wb= whole_body.get_current_joint_values()\n",
    "    wb[0]=goal_y-0.5\n",
    "    wb[1]=goal_x\n",
    "    wb[2]=np.deg2rad(goal_yaw)\n",
    "    wb[3] = .66\n",
    "    wb[7] = 0\n",
    "\n",
    "    whole_body.go(wb)\n",
    "i=closest_cent\n",
    "trans_hand,rot_hand= listener.lookupTransform('/hand_palm_link', 'static'+str(i),rospy.Time(0))\n",
    "hand_euler=tf.transformations.euler_from_quaternion(rot_hand)\n",
    "print (trans_hand)"
   ]
  },
  {
   "cell_type": "code",
   "execution_count": 40,
   "metadata": {},
   "outputs": [
    {
     "name": "stdout",
     "output_type": "stream",
     "text": [
      "[0.06291499778169696, -0.009856376842955511, 0.11520034002926316]\n",
      "([0.05555953877614428, -0.02238037018008912, 0.10217858712619976], True, 1.3)\n"
     ]
    }
   ],
   "source": [
    "#scene.remove_world_object()\n",
    "move_hand(1)\n",
    "i=closest_cent\n",
    "trans_hand,rot_hand= listener.lookupTransform('/hand_palm_link', 'static'+str(i),rospy.Time(0))\n",
    "hand_euler=tf.transformations.euler_from_quaternion(rot_hand)\n",
    "print(trans_hand )\n",
    "if grasp_above:    \n",
    "    wb= whole_body.get_current_joint_values()\n",
    "    wb[0]  =  np.min( (1.3, trans_hand[0]+wb[0] ))\n",
    "    wb[1] += trans_hand[1] \n",
    "    wb[3] += -trans_hand[2]+.1\n",
    "    \n",
    "\n",
    "    succ=whole_body.go(wb)\n",
    "    \n",
    "    #move_hand(1)\n",
    "else:\n",
    "\n",
    "    wb= whole_body.get_current_joint_values()\n",
    "    wb[0] += trans_hand[2] - 0.3\n",
    "    wb[1] += trans_hand[1]\n",
    "    wb[3] =  0.4#trans_hand[0]\n",
    "\n",
    "    succ=whole_body.go(wb)\n",
    "\n",
    "    \n",
    "trans_hand,rot_hand= listener.lookupTransform('/hand_palm_link', 'static'+str(i),rospy.Time(0))\n",
    "hand_euler=tf.transformations.euler_from_quaternion(rot_hand)\n",
    "\n",
    "print(trans_hand ,succ,wb[0])"
   ]
  },
  {
   "cell_type": "code",
   "execution_count": 37,
   "metadata": {},
   "outputs": [
    {
     "data": {
      "text/plain": [
       "0.7074629853338774"
      ]
     },
     "execution_count": 37,
     "metadata": {},
     "output_type": "execute_result"
    }
   ],
   "source": [
    "wb= whole_body.get_current_joint_values()\n",
    "wb[0]"
   ]
  },
  {
   "cell_type": "code",
   "execution_count": null,
   "metadata": {},
   "outputs": [],
   "source": [
    "\n",
    "    \n",
    "trans_hand,rot_hand= listener.lookupTransform('/hand_palm_link', 'static'+str(i),rospy.Time(0))\n",
    "hand_euler=tf.transformations.euler_from_quaternion(rot_hand)\n",
    "print(trans_hand ,hand_euler)"
   ]
  },
  {
   "cell_type": "code",
   "execution_count": 42,
   "metadata": {},
   "outputs": [
    {
     "name": "stdout",
     "output_type": "stream",
     "text": [
      "([0.027920689031185036, 1.908970751557743, 0.6091219124947145], (-0.02150150636047582, 0.004250797993193756, -2.3251249042880793))\n",
      "-2.32512490429\n",
      "[0.5559213396920301, -1.6757390546608368, -0.027206034012094538, -1.5913581482823833, -1.539726740890631, 0.0]\n",
      "([0.03570881376389046, 0.04389932195506718, 0.11778355520721673], (3.0104838911866842, -0.06981962027860263, -0.7802759829322728), True, 1.3)\n"
     ]
    }
   ],
   "source": [
    "move_hand(1)\n",
    "\n",
    "##GRASP \n",
    "i=closest_cent\n",
    "trans_hand,rot_hand= listener.lookupTransform('/map', 'static'+str(i),rospy.Time(0))\n",
    "hand_euler=tf.transformations.euler_from_quaternion(rot_hand)\n",
    "print(trans_hand ,hand_euler)\n",
    "if grasp_above:    \n",
    "\n",
    "    whole_body.go(wb)\n",
    "    trans_hand,np.rad2deg(hand_euler)\n",
    "    print(hand_euler[2])\n",
    "    a=arm.get_current_joint_values()\n",
    "    a[-2]=np.max((-0.5*np.pi , hand_euler[2] +.25*np.pi))\n",
    "    arm.go(a)\n",
    "    print (a)\n",
    "    a=arm.get_current_joint_values()\n",
    "    a[0] =.58\n",
    "    succ=arm.go(a)\n",
    "    \n",
    "\n",
    "   \n",
    "    \n",
    "    #move_hand(1)\n",
    "else:\n",
    "    #scene.remove_world_object()\n",
    "    wb= whole_body.get_current_joint_values()\n",
    "    wb[0] += trans_hand[2] - 0.066\n",
    "    wb[1] += trans_hand[1]\n",
    "    wb[3] =  0.37 #  trans_hand[0]\n",
    "\n",
    "    succ=whole_body.go(wb)\n",
    "    scene.remove_world_object()\n",
    "    \n",
    "\n",
    "    \n",
    "succ\n",
    "  \n",
    "trans_hand,rot_hand= listener.lookupTransform('/hand_palm_link', 'static'+str(i),rospy.Time(0))\n",
    "hand_euler=tf.transformations.euler_from_quaternion(rot_hand)\n",
    "print(trans_hand ,hand_euler,succ,wb[0])"
   ]
  },
  {
   "cell_type": "code",
   "execution_count": 43,
   "metadata": {},
   "outputs": [
    {
     "data": {
      "text/plain": [
       "True"
      ]
     },
     "execution_count": 43,
     "metadata": {},
     "output_type": "execute_result"
    }
   ],
   "source": [
    "scene.remove_world_object()\n",
    "a=arm.get_current_joint_values()\n",
    "if grasp_above:\n",
    "    a[0]=.54\n",
    "    arm.go(a)\n",
    "move_hand(0)\n",
    "publish_scene()\n",
    "a=arm.get_current_joint_values()\n",
    "a[0]=.6\n",
    "a[1]=-0.4*np.pi\n",
    "arm.go(a)\n",
    "arm.set_named_target('go')\n",
    "arm.go()\n",
    "head.set_named_target('neutral')\n",
    "head.go()"
   ]
  },
  {
   "cell_type": "code",
   "execution_count": null,
   "metadata": {},
   "outputs": [],
   "source": [
    "#### break\n",
    "arm.set_named_target('go')\n",
    "arm.go()"
   ]
  },
  {
   "cell_type": "code",
   "execution_count": null,
   "metadata": {},
   "outputs": [],
   "source": [
    "trans_hand,rot_hand= listener.lookupTransform('/hand_palm_link', 'static'+str(i),rospy.Time(0))\n",
    "hand_euler=tf.transformations.euler_from_quaternion(rot_hand)\n",
    "print(trans_hand )\n"
   ]
  },
  {
   "cell_type": "markdown",
   "metadata": {},
   "source": [
    "\n",
    "[START](#start)\n"
   ]
  },
  {
   "cell_type": "code",
   "execution_count": null,
   "metadata": {},
   "outputs": [],
   "source": [
    "break"
   ]
  },
  {
   "cell_type": "code",
   "execution_count": null,
   "metadata": {},
   "outputs": [],
   "source": [
    "cha"
   ]
  },
  {
   "cell_type": "code",
   "execution_count": null,
   "metadata": {},
   "outputs": [],
   "source": [
    "trans_hand,rot_hand= listener.lookupTransform('/hand_palm_link', 'static'+str(i),rospy.Time(0))\n",
    "hand_euler=tf.transformations.euler_from_quaternion(rot_hand)\n",
    "print(trans_hand )\n",
    "if grasp_above:    \n",
    "    wb= whole_body.get_current_joint_values()\n",
    "    #wb[0] += trans_hand[0]\n",
    "    #wb[1] += trans_hand[1]\n",
    "    wb[3] += -trans_hand[2]+.07\n",
    "    \n",
    "    succ=whole_body.go(wb)\n",
    "    trans_hand,np.rad2deg(hand_euler)\n"
   ]
  },
  {
   "cell_type": "code",
   "execution_count": null,
   "metadata": {},
   "outputs": [],
   "source": []
  },
  {
   "cell_type": "code",
   "execution_count": null,
   "metadata": {},
   "outputs": [],
   "source": [
    "trans_hand,rot_hand= listener.lookupTransform('/hand_palm_link', 'static'+str(i),rospy.Time(0))\n",
    "hand_euler=tf.transformations.euler_from_quaternion(rot_hand)\n",
    "print(trans_hand )"
   ]
  },
  {
   "cell_type": "code",
   "execution_count": null,
   "metadata": {},
   "outputs": [],
   "source": [
    "scene.remove_world_object()\n",
    "move_hand(0)"
   ]
  },
  {
   "cell_type": "code",
   "execution_count": null,
   "metadata": {},
   "outputs": [],
   "source": [
    "i=closest_cent\n",
    "trans_hand,rot_hand= listener.lookupTransform('/hand_palm_link', 'static'+str(i),rospy.Time(0))\n",
    "hand_euler=tf.transformations.euler_from_quaternion(rot_hand)\n",
    "print(trans_hand )\n",
    "if grasp_above:    \n",
    "    wb= whole_body.get_current_joint_values()\n",
    "    wb[0] += trans_hand[0]\n",
    "    wb[1] += trans_hand[1]-.2\n",
    "    #wb[3] += -trans_hand[2]+.1\n",
    "    \n",
    "\n",
    "    succ=whole_body.go(wb)"
   ]
  },
  {
   "cell_type": "code",
   "execution_count": null,
   "metadata": {},
   "outputs": [],
   "source": [
    "i=closest_cent\n",
    "trans_hand,rot_hand= listener.lookupTransform('/base_footprint', 'static'+str(i),rospy.Time(0))\n",
    "hand_euler=tf.transformations.euler_from_quaternion(rot_hand)\n",
    "trans_hand"
   ]
  },
  {
   "cell_type": "code",
   "execution_count": null,
   "metadata": {},
   "outputs": [],
   "source": [
    "wb= whole_body.get_current_joint_values()\n",
    "wb[0] += trans_hand[0]-.7\n",
    "wb[1] += trans_hand[1]-.2\n",
    "    #wb[3] += -trans_hand[2]+.1\n",
    "    \n",
    "whole_body.go(wb)"
   ]
  },
  {
   "cell_type": "code",
   "execution_count": null,
   "metadata": {},
   "outputs": [],
   "source": [
    "trans_hand,hand_euler"
   ]
  },
  {
   "cell_type": "code",
   "execution_count": null,
   "metadata": {},
   "outputs": [],
   "source": [
    "whole_body.get_active_joints()"
   ]
  },
  {
   "cell_type": "code",
   "execution_count": null,
   "metadata": {},
   "outputs": [],
   "source": [
    "wb= whole_body.get_current_joint_values()\n",
    "#wb[4]=-1\n",
    "wb[6]=-0.5*np.pi\n",
    "whole_body.go(wb)"
   ]
  },
  {
   "cell_type": "code",
   "execution_count": null,
   "metadata": {},
   "outputs": [],
   "source": [
    "wb= whole_body.get_current_joint_values()\n",
    "wb"
   ]
  },
  {
   "cell_type": "code",
   "execution_count": null,
   "metadata": {},
   "outputs": [],
   "source": [
    "whole_body.get_active_joints()"
   ]
  },
  {
   "cell_type": "code",
   "execution_count": null,
   "metadata": {},
   "outputs": [],
   "source": [
    "arm.get_active_joints()"
   ]
  },
  {
   "cell_type": "code",
   "execution_count": null,
   "metadata": {},
   "outputs": [],
   "source": [
    "a= arm.get_current_joint_values()"
   ]
  },
  {
   "cell_type": "code",
   "execution_count": null,
   "metadata": {},
   "outputs": [],
   "source": [
    "#a[0]=.5\n",
    "#a[1]=-0.5*np.pi\n",
    "a[-2]=0.3*np.pi\n",
    "#a[3]=np.pi"
   ]
  },
  {
   "cell_type": "code",
   "execution_count": null,
   "metadata": {},
   "outputs": [],
   "source": [
    "arm.go(a)"
   ]
  },
  {
   "cell_type": "code",
   "execution_count": null,
   "metadata": {},
   "outputs": [],
   "source": [
    "\n",
    "a\n"
   ]
  },
  {
   "cell_type": "code",
   "execution_count": null,
   "metadata": {},
   "outputs": [],
   "source": [
    "move_hand(0)"
   ]
  },
  {
   "cell_type": "code",
   "execution_count": null,
   "metadata": {},
   "outputs": [],
   "source": [
    "scene.remove_world_object()"
   ]
  },
  {
   "cell_type": "code",
   "execution_count": null,
   "metadata": {},
   "outputs": [],
   "source": [
    "trans_hand,rot_hand= listener.lookupTransform('/map','/hand_palm_link',rospy.Time(0))\n",
    "trans_hand"
   ]
  },
  {
   "cell_type": "code",
   "execution_count": null,
   "metadata": {},
   "outputs": [],
   "source": [
    "i=closest_cent\n",
    "trans_hand,rot_hand= listener.lookupTransform('/hand_palm_link', 'static'+str(i),rospy.Time(0))\n",
    "hand_euler=tf.transformations.euler_from_quaternion(rot_hand)\n",
    "print(hand_euler )\n"
   ]
  },
  {
   "cell_type": "code",
   "execution_count": null,
   "metadata": {},
   "outputs": [],
   "source": [
    ".1*np.pi"
   ]
  },
  {
   "cell_type": "code",
   "execution_count": null,
   "metadata": {},
   "outputs": [],
   "source": [
    "quats"
   ]
  },
  {
   "cell_type": "code",
   "execution_count": null,
   "metadata": {},
   "outputs": [],
   "source": []
  }
 ],
 "metadata": {
  "kernelspec": {
   "display_name": "Python 2",
   "language": "python",
   "name": "python2"
  },
  "language_info": {
   "codemirror_mode": {
    "name": "ipython",
    "version": 2
   },
   "file_extension": ".py",
   "mimetype": "text/x-python",
   "name": "python",
   "nbconvert_exporter": "python",
   "pygments_lexer": "ipython2",
   "version": "2.7.17"
  },
  "nbTranslate": {
   "displayLangs": [
    "ja"
   ],
   "hotkey": "alt-t",
   "langInMainMenu": true,
   "sourceLang": "ja",
   "targetLang": "en",
   "useGoogleTranslate": true
  },
  "toc": {
   "base_numbering": 1,
   "nav_menu": {},
   "number_sections": true,
   "sideBar": true,
   "skip_h1_title": false,
   "title_cell": "Table of Contents",
   "title_sidebar": "Contents",
   "toc_cell": false,
   "toc_position": {
    "height": "calc(100% - 180px)",
    "left": "10px",
    "top": "150px",
    "width": "165px"
   },
   "toc_section_display": true,
   "toc_window_display": true
  }
 },
 "nbformat": 4,
 "nbformat_minor": 2
}
