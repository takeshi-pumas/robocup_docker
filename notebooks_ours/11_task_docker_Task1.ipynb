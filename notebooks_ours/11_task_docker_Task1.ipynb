{
 "cells": [
  {
   "cell_type": "markdown",
   "metadata": {
    "lang": "en"
   },
   "source": [
    "## Setup"
   ]
  },
  {
   "cell_type": "markdown",
   "metadata": {
    "lang": "ja"
   },
   "source": [
    "必要なライブラリをインポートして、初期化を行います。"
   ]
  },
  {
   "cell_type": "markdown",
   "metadata": {
    "lang": "en"
   },
   "source": [
    "Import the required libraries and initialize them:"
   ]
  },
  {
   "cell_type": "markdown",
   "metadata": {},
   "source": [
    "%matplotlib inline\n",
    "import matplotlib.pyplot as plt\n",
    "import numpy as np\n",
    "import ros_numpy\n",
    "import rospy\n",
    "import tf\n",
    "from gazebo_ros import gazebo_interface\n",
    "from sensor_msgs.msg import LaserScan, PointCloud2\n",
    "from geometry_msgs.msg import Pose, Quaternion ,TransformStamped,PoseStamped\n",
    "import tf2_ros\n",
    "import sys\n",
    "\n",
    "from utils import *\n",
    "import cv2\n",
    "import os\n"
   ]
  },
  {
   "cell_type": "code",
   "execution_count": 2,
   "metadata": {},
   "outputs": [],
   "source": [
    "from utils_takeshi import *"
   ]
  },
  {
   "cell_type": "code",
   "execution_count": 3,
   "metadata": {},
   "outputs": [
    {
     "name": "stdout",
     "output_type": "stream",
     "text": [
      "Starting job # 0 in a separate thread.\n"
     ]
    }
   ],
   "source": [
    "%%script bash --bg\n",
    "rviz -d data/task1.rviz > /dev/null 2>&1"
   ]
  },
  {
   "cell_type": "code",
   "execution_count": 3,
   "metadata": {},
   "outputs": [],
   "source": [
    "##KNOWN LOCATIONS\n",
    "kl_mess1= [1.04,0.3,90]\n",
    "kl_table1= [1.04,1.3,90]\n",
    "kl_tray=  [ -0.04168256822546347, 1.5,-90]\n",
    "kl_box1=  [-0.04168256822546347, 2.427268271720426, -90]\n",
    "kl_drawers=  [0.06, 0.038, -90]\n",
    "### ARM \n",
    "arm_grasp_from_above=[0.19263830140116414,\n",
    " -2.2668981568652917,\n",
    " -0.007358947463759424,\n",
    " -0.9939144210462025,\n",
    " -0.17365421548386273,\n",
    " 0.0]\n",
    "arm_grasp_from_above_table=[0.41349380130577407,\n",
    " -1.671584191489468,\n",
    " -0.02774372779356371,\n",
    " -1.5952436225825641,\n",
    " 0.22362492457833927,\n",
    " 0.0]\n",
    "\n",
    "\n",
    "arm_grasp_table=[0.41349380130577407,\n",
    " -1.671584191489468,\n",
    " -0.02774372779356371,\n",
    " 0.0,\n",
    " 0.22362492457833927,\n",
    " 0.0]\n",
    "\n",
    "\n",
    "arm_grasp_floor=[-1.5151551103007697e-05,\n",
    " -2.4,\n",
    " -0.2620865401925543,\n",
    " 0.7019536624449207,\n",
    " 0.20120924571306453,\n",
    " 0.0]\n",
    "arm_train_pose=[0.033749214744071214,\n",
    " -2.1204421063180217,\n",
    " -1.3982377978814715,\n",
    " -1.7296544561013807,\n",
    " 2.135675364707808,\n",
    " 0.0]\n",
    "\n",
    "arm_ready_to_place=[0.03999320441056991,\n",
    " -0.4729690540086997,\n",
    " 0.19361475012179108,\n",
    " -1.5269847787383313,\n",
    " -0.009753879176134461,\n",
    " 0.0]"
   ]
  },
  {
   "cell_type": "code",
   "execution_count": 4,
   "metadata": {},
   "outputs": [],
   "source": [
    "def segment_shelf(chan):\n",
    "    image_data=rgbd.get_image()\n",
    "    points_data = rgbd.get_points()\n",
    "\n",
    "    mask=np.zeros((image_data.shape))\n",
    "    plane_mask=np.zeros((image_data.shape[0],image_data.shape[1]))\n",
    "\n",
    "    plane_mask=image_data[:,:,chan]\n",
    "\n",
    "    ret,thresh = cv2.threshold(image_data[:,:,2],200,255,200)\n",
    "    plane_mask=points_data['z']\n",
    "    cv2_img=plane_mask.astype('uint8')\n",
    "    img=image_data[:,:,0]\n",
    "    _,contours, hierarchy = cv2.findContours(thresh.astype('uint8'),cv2.RETR_TREE,cv2.CHAIN_APPROX_SIMPLE)\n",
    "    i=0\n",
    "    cents=[]\n",
    "    for i, contour in enumerate(contours):\n",
    "        area = cv2.contourArea(contour)\n",
    "\n",
    "        if area > 20 and area < 5000 :\n",
    "            print('contour',i,'area',area)\n",
    "\n",
    "            boundRect = cv2.boundingRect(contour)\n",
    "            #just for drawing rect, dont waste too much time on this\n",
    "            print boundRect\n",
    "            img=cv2.rectangle(img,(boundRect[0], boundRect[1]),(boundRect[0]+boundRect[2], boundRect[1]+boundRect[3]), (0,0,0), 2)\n",
    "            # calculate moments for each contour\n",
    "            xyz=[]\n",
    "\n",
    "\n",
    "            for jy in range (boundRect[0], boundRect[0]+boundRect[2]):\n",
    "                for ix in range(boundRect[1], boundRect[1]+boundRect[3]):\n",
    "                    xyz.append(np.asarray((points_data['x'][ix,jy],points_data['y'][ix,jy],points_data['z'][ix,jy])))\n",
    "            xyz=np.asarray(xyz)\n",
    "            cent=xyz.mean(axis=0)\n",
    "            cents.append(cent)\n",
    "            M = cv2.moments(contour)\n",
    "            # calculate x,y coordinate of center\n",
    "            cX = int(M[\"m10\"] / M[\"m00\"])\n",
    "            cY = int(M[\"m01\"] / M[\"m00\"])\n",
    "            cv2.circle(img, (cX, cY), 5, (255, 255, 255), -1)\n",
    "            cv2.putText(img, \"centroid_\"+str(i)+\"_\"+str(cX)+','+str(cY)    ,    (cX - 25, cY - 25)   ,cv2.FONT_HERSHEY_SIMPLEX, 0.9, (0, 0, 0), 2)\n",
    "            print ('cX,cY',cX,cY)\n",
    "    cents=np.asarray(cents)\n",
    "    plt.imshow(img )\n",
    "    return (cents)"
   ]
  },
  {
   "cell_type": "code",
   "execution_count": 5,
   "metadata": {},
   "outputs": [],
   "source": [
    "def segment_table2(chan):\n",
    "    image_data=rgbd.get_image()\n",
    "    points_data = rgbd.get_points()\n",
    "\n",
    "    mask=np.zeros((image_data.shape))\n",
    "    plane_mask=np.zeros((image_data.shape[0],image_data.shape[1]))\n",
    "\n",
    "    plane_mask=image_data[:,:,chan]\n",
    "\n",
    "    ret,thresh = cv2.threshold(image_data[:,:,2],240,255,200)\n",
    "    plane_mask=points_data['z']\n",
    "    cv2_img=plane_mask.astype('uint8')\n",
    "    img=image_data[:,:,0]\n",
    "    _,contours, hierarchy = cv2.findContours(thresh.astype('uint8'),cv2.RETR_TREE,cv2.CHAIN_APPROX_SIMPLE)\n",
    "    i=0\n",
    "    cents=[]\n",
    "    for i, contour in enumerate(contours):\n",
    "        area = cv2.contourArea(contour)\n",
    "\n",
    "        if area > 200 and area < 50000 :\n",
    "            print('contour',i,'area',area)\n",
    "\n",
    "            boundRect = cv2.boundingRect(contour)\n",
    "            #just for drawing rect, dont waste too much time on this\n",
    "            print boundRect\n",
    "            img=cv2.rectangle(img,(boundRect[0], boundRect[1]),(boundRect[0]+boundRect[2], boundRect[1]+boundRect[3]), (0,0,0), 2)\n",
    "            # calculate moments for each contour\n",
    "            xyz=[]\n",
    "\n",
    "\n",
    "            for jy in range (boundRect[0], boundRect[0]+boundRect[2]):\n",
    "                for ix in range(boundRect[1], boundRect[1]+boundRect[3]):\n",
    "                    xyz.append(np.asarray((points_data['x'][ix,jy],points_data['y'][ix,jy],points_data['z'][ix,jy])))\n",
    "            xyz=np.asarray(xyz)\n",
    "            cent=xyz.mean(axis=0)\n",
    "            cents.append(cent)\n",
    "            M = cv2.moments(contour)\n",
    "            # calculate x,y coordinate of center\n",
    "            cX = int(M[\"m10\"] / M[\"m00\"])\n",
    "            cY = int(M[\"m01\"] / M[\"m00\"])\n",
    "            cv2.circle(img, (cX, cY), 5, (255, 255, 255), -1)\n",
    "            cv2.putText(img, \"centroid_\"+str(i)+\"_\"+str(cX)+','+str(cY)    ,    (cX - 25, cY - 25)   ,cv2.FONT_HERSHEY_SIMPLEX, 0.9, (0, 0, 0), 2)\n",
    "            print ('cX,cY',cX,cY)\n",
    "    cents=np.asarray(cents)\n",
    "    plt.imshow(img )\n",
    "    return (cents)"
   ]
  },
  {
   "cell_type": "code",
   "execution_count": 6,
   "metadata": {},
   "outputs": [],
   "source": [
    "def segment_table():\n",
    "    image_data=rgbd.get_image()\n",
    "    points_data = rgbd.get_points()\n",
    "\n",
    "    mask=np.zeros((image_data.shape))\n",
    "    plane_mask=np.zeros((image_data.shape[0],image_data.shape[1]))\n",
    "\n",
    "    plane_mask=image_data[:,:,1]\n",
    "\n",
    "    ret,thresh = cv2.threshold(image_data[:,:,2],240,255,200)\n",
    "    plane_mask=points_data['z']\n",
    "    cv2_img=plane_mask.astype('uint8')\n",
    "    img=image_data[:,:,0]\n",
    "    _,contours, hierarchy = cv2.findContours(thresh.astype('uint8'),cv2.RETR_TREE,cv2.CHAIN_APPROX_SIMPLE)\n",
    "    i=0\n",
    "    cents=[]\n",
    "    for i, contour in enumerate(contours):\n",
    "        area = cv2.contourArea(contour)\n",
    "\n",
    "        if area > 2000 and area < 50000 :\n",
    "            print('contour',i,'area',area)\n",
    "\n",
    "            boundRect = cv2.boundingRect(contour)\n",
    "            #just for drawing rect, dont waste too much time on this\n",
    "            print boundRect\n",
    "            img=cv2.rectangle(img,(boundRect[0], boundRect[1]),(boundRect[0]+boundRect[2], boundRect[1]+boundRect[3]), (0,0,0), 2)\n",
    "            # calculate moments for each contour\n",
    "            xyz=[]\n",
    "\n",
    "\n",
    "            for jy in range (boundRect[0], boundRect[0]+boundRect[2]):\n",
    "                for ix in range(boundRect[1], boundRect[1]+boundRect[3]):\n",
    "                    xyz.append(np.asarray((points_data['x'][ix,jy],points_data['y'][ix,jy],points_data['z'][ix,jy])))\n",
    "            xyz=np.asarray(xyz)\n",
    "            cent=xyz.mean(axis=0)\n",
    "            cents.append(cent)\n",
    "            M = cv2.moments(contour)\n",
    "            # calculate x,y coordinate of center\n",
    "            cX = int(M[\"m10\"] / M[\"m00\"])\n",
    "            cY = int(M[\"m01\"] / M[\"m00\"])\n",
    "            cv2.circle(img, (cX, cY), 5, (255, 255, 255), -1)\n",
    "            cv2.putText(img, \"centroid_\"+str(i)+\"_\"+str(cX)+','+str(cY)    ,    (cX - 25, cY - 25)   ,cv2.FONT_HERSHEY_SIMPLEX, 0.9, (0, 0, 0), 2)\n",
    "            print ('cX,cY',cX,cY)\n",
    "    cents=np.asarray(cents)\n",
    "    plt.imshow(img )\n",
    "    return (cents)"
   ]
  },
  {
   "cell_type": "code",
   "execution_count": 7,
   "metadata": {},
   "outputs": [],
   "source": [
    "def segment_floor():\n",
    "        image_data=rgbd.get_image()\n",
    "        points_data = rgbd.get_points()\n",
    "\n",
    "##### WILL PACKAGE IT BETTER SOON I PROMISE######################################################################\n",
    "        ##px pixels /2D world  P1 3D world\n",
    "        px_y,px_x=-1,-200\n",
    "        P1= np.asarray((points_data[px_y,px_x]['x'],points_data[px_y,px_x]['y'],points_data[px_y,px_x]['z'] ))\n",
    "        px_y,px_x=-1,200\n",
    "        P2= np.asarray((points_data[px_y,px_x]['x'],points_data[px_y,px_x]['y'],points_data[px_y,px_x]['z'] ))\n",
    "        px_y,px_x=-150,320\n",
    "        P3= np.asarray((points_data[px_y,px_x]['x'],points_data[px_y,px_x]['y'],points_data[px_y,px_x]['z'] ))\n",
    "        #      \n",
    "\n",
    "        V1 =P1 - P2\n",
    "        V2= P3-P2\n",
    "        nx,ny,nz=np.cross(V2,V1)\n",
    "        print('look at the phi angle  in normal vector', np.rad2deg(cart2spher(nx,ny,nz))[2]-90)\n",
    "        trans , rot = listener.lookupTransform('/map', '/head_rgbd_sensor_gazebo_frame', rospy.Time(0))\n",
    "        euler=tf.transformations.euler_from_quaternion(rot)\n",
    "        print(   np.rad2deg(euler)[1],'if this degree is not the same as head tilt plane was not found')\n",
    "        \n",
    "        mask=np.zeros((image_data.shape))\n",
    "        plane_mask=np.zeros((image_data.shape[0],image_data.shape[1]))\n",
    "        mask[:,:,0]=points_data['x'] - P1[0]\n",
    "        mask[:,:,1]=points_data['y'] - P1[1]\n",
    "        mask[:,:,2]=points_data['z'] - P1[2]\n",
    "        for i in range (image_data.shape[0]):\n",
    "            for j in range (image_data.shape[1]):\n",
    "                plane_mask[i,j]=-np.dot(np.asarray((nx,ny,nz,)),mask[i,j])\n",
    "        plane_mask=plane_mask-np.min(plane_mask)\n",
    "        plane_mask=plane_mask*256/np.max(plane_mask)\n",
    "        plane_mask.astype('uint8')\n",
    "\n",
    "        ret,thresh = cv2.threshold(plane_mask,3,255,0)\n",
    "\n",
    "        cv2_img=plane_mask.astype('uint8')\n",
    "        img=plane_mask.astype('uint8')\n",
    "        _,contours, hierarchy = cv2.findContours(thresh.astype('uint8'),cv2.RETR_TREE,cv2.CHAIN_APPROX_SIMPLE)\n",
    "        i=0\n",
    "        cents=[]\n",
    "        for i, contour in enumerate(contours):\n",
    "            area = cv2.contourArea(contour)\n",
    "            \n",
    "            if area > 200 and area < 50000 :\n",
    "                #print('contour',i,'area',area)\n",
    "                \n",
    "                boundRect = cv2.boundingRect(contour)\n",
    "                #just for drawing rect, dont waste too much time on this\n",
    "                img=cv2.rectangle(img,(boundRect[0], boundRect[1]),(boundRect[0]+boundRect[2], boundRect[1]+boundRect[3]), (255,0,0), 2)\n",
    "                # calculate moments for each contour\n",
    "                xyz=[]\n",
    "                \n",
    "                \n",
    "                for jy in range (boundRect[0], boundRect[0]+boundRect[2]):\n",
    "                    for ix in range(boundRect[1], boundRect[1]+boundRect[3]):\n",
    "                        xyz.append(np.asarray((points_data['x'][ix,jy],points_data['y'][ix,jy],points_data['z'][ix,jy])))\n",
    "                xyz=np.asarray(xyz)\n",
    "                cent=xyz.mean(axis=0)\n",
    "                cents.append(cent)\n",
    "                M = cv2.moments(contour)\n",
    "                # calculate x,y coordinate of center\n",
    "                cX = int(M[\"m10\"] / M[\"m00\"])\n",
    "                cY = int(M[\"m01\"] / M[\"m00\"])\n",
    "                cv2.circle(img, (cX, cY), 5, (255, 255, 255), -1)\n",
    "                cv2.putText(img, \"centroid_\"+str(i)+\"_\"+str(cX)+','+str(cY)    ,    (cX - 25, cY - 25)   ,cv2.FONT_HERSHEY_SIMPLEX, 0.9, (255, 255, 255), 2)\n",
    "        cents=np.asarray(cents)\n",
    "        plt.imshow(img)\n",
    "        return cents"
   ]
  },
  {
   "cell_type": "code",
   "execution_count": 8,
   "metadata": {},
   "outputs": [],
   "source": [
    "def add_object(name, size, pose, orientation):\n",
    "    p = PoseStamped()\n",
    "    p.header.frame_id = \"map\"       # \"head_rgbd_sensor_link\"\n",
    "    \n",
    "    p.pose.position.x = pose[0]\n",
    "    p.pose.position.y = pose[1]\n",
    "    p.pose.position.z = pose[2]\n",
    "\n",
    "    p.pose.orientation.x = orientation[0] * np.pi\n",
    "    p.pose.orientation.w = orientation[1] * np.pi\n",
    "\n",
    "    scene.add_box(name, p, size)\n",
    "\n",
    "\n",
    "def publish_scene():\n",
    "    add_object(\"shelf\", [1.5, 0.04, 0.4], [2.5, 4.7, 0.78], [0.5, 0.5])\n",
    "    add_object(\"shelf1\", [1.5, 0.04, 0.4], [2.5, 4.7, 0.49], [0.5, 0.5])\n",
    "    add_object(\"shelf2\", [1.5, 0.04, 0.4], [2.5, 4.7, 0.18], [0.5, 0.5])\n",
    "    add_object(\"shelf_wall\", [1, 1, 0.04], [2.5, 4.9, 0.5], [0.5, 0.5])\n",
    "    add_object(\"shelf_wall1\", [.04, 1, 0.4], [2.7, 4.9, 0.5], [0.5, 0.5])\n",
    "    add_object(\"shelf_wall2\", [.04, 1, 0.4], [1.8, 4.9, 0.5], [0.5, 0.5])\n",
    "    \n",
    "    add_object(\"table_big\", [1.7, 0.13, 0.7], [0.95, 1.9, 0.34], [0.5, 0.5])\n",
    "    add_object(\"table_small\", [0.5, 0.01, 0.4], [0.1, 1.9, 0.61], [0.5, 0.5])\n",
    "    add_object(\"table_tray\", [0.65, 0.01, 0.7], [1.8, -0.65, 0.4], [0.5, 0.5])    \n",
    "    return True"
   ]
  },
  {
   "cell_type": "code",
   "execution_count": 37,
   "metadata": {},
   "outputs": [],
   "source": [
    "#TF WRT HEAD SENSOR\n",
    "def static_tf_publish(cents):\n",
    "    for  i ,cent  in enumerate(cents):\n",
    "        x,y,z=cent\n",
    "        if np.isnan(x) or np.isnan(y) or np.isnan(z):\n",
    "            print('nan')\n",
    "        else:\n",
    "            broadcaster.sendTransform((x,y,z),rot, rospy.Time.now(), 'Closest_Object'+str(i),\"head_rgbd_sensor_link\")\n",
    "            rospy.sleep(.2)\n",
    "            xyz_map,cent_quat= listener.lookupTransform('/map', 'Closest_Object'+str(i),rospy.Time(0))\n",
    "            map_euler=tf.transformations.euler_from_quaternion(cent_quat)\n",
    "            rospy.sleep(.2)\n",
    "            static_transformStamped = TransformStamped()\n",
    "\n",
    "            ##FIXING TF TO MAP ( ODOM REALLY)    \n",
    "            #tf_broadcaster1.sendTransform( (xyz[0],xyz[1],xyz[2]),tf.transformations.quaternion_from_euler(0, 0, 0), rospy.Time.now(), \"obj\"+str(ind), \"head_rgbd_sensor_link\")\n",
    "            static_transformStamped.header.stamp = rospy.Time.now()\n",
    "            static_transformStamped.header.frame_id = \"map\"\n",
    "            static_transformStamped.child_frame_id = \"static\"+str(i)\n",
    "            static_transformStamped.transform.translation.x = float(xyz_map[0])\n",
    "            static_transformStamped.transform.translation.y = float(xyz_map[1])\n",
    "            static_transformStamped.transform.translation.z = float(xyz_map[2])\n",
    "            #quat = tf.transformations.quaternion_from_euler(-euler[0],0,1.5)\n",
    "            static_transformStamped.transform.rotation.x = 0#-quat[0]#trans.transform.rotation.x\n",
    "            static_transformStamped.transform.rotation.y = 0#-quat[1]#trans.transform.rotation.y\n",
    "            static_transformStamped.transform.rotation.z = 0#-quat[2]#trans.transform.rotation.z\n",
    "            static_transformStamped.transform.rotation.w = 1#-quat[3]#trans.transform.rotation.w\n",
    "\n",
    "\n",
    "            tf_static_broadcaster.sendTransform(static_transformStamped)\n",
    "    return True\n",
    "    \n",
    "\n",
    "\n",
    "    \n",
    "\n",
    "\n",
    "    \n",
    "    "
   ]
  },
  {
   "cell_type": "code",
   "execution_count": 10,
   "metadata": {},
   "outputs": [],
   "source": [
    "def cart2spher(x,y,z):\n",
    "    ro= np.sqrt(x**2+y**2+z**2)\n",
    "    th=np.arctan2(y,x)\n",
    "    phi=np.arctan2((np.sqrt(x**2+y**2)),z)\n",
    "    return np.asarray((ro,th,phi))\n",
    "def spher2cart(ro,th,phi):\n",
    "    x= ro * np.cos(th)* np.sin(phi)\n",
    "    y= ro * np.sin(th)* np.sin(phi)\n",
    "    z= ro*  np.cos(th)\n",
    "    return np.asarray((x,y,z))"
   ]
  },
  {
   "cell_type": "code",
   "execution_count": 11,
   "metadata": {},
   "outputs": [],
   "source": [
    "\n",
    "rospy.init_node(\"recognition\")\n"
   ]
  },
  {
   "cell_type": "code",
   "execution_count": 12,
   "metadata": {},
   "outputs": [],
   "source": [
    "listener = tf.TransformListener()\n",
    "broadcaster= tf.TransformBroadcaster()\n",
    "tf_static_broadcaster= tf2_ros.StaticTransformBroadcaster()\n",
    "import moveit_commander\n",
    "import moveit_msgs.msg\n",
    "###might take some time to load all those takeshi meshes in rviz\n",
    "\n",
    "head = moveit_commander.MoveGroupCommander('head')\n",
    "arm = moveit_commander.MoveGroupCommander('arm')\n",
    "whole_body = moveit_commander.MoveGroupCommander('whole_body_light')\n",
    "whole_body.set_workspace([-6.0, -6.0, 6.0, 6.0])"
   ]
  },
  {
   "cell_type": "markdown",
   "metadata": {
    "lang": "ja"
   },
   "source": [
    "rvizを起動します．ロボットモデル、カメラ映像、ポイントクラウドが表示されています。"
   ]
  },
  {
   "cell_type": "code",
   "execution_count": 13,
   "metadata": {},
   "outputs": [],
   "source": [
    "rgbd = RGBD()"
   ]
  },
  {
   "cell_type": "code",
   "execution_count": 14,
   "metadata": {},
   "outputs": [],
   "source": [
    "scene = moveit_commander.PlanningSceneInterface()"
   ]
  },
  {
   "cell_type": "code",
   "execution_count": 15,
   "metadata": {},
   "outputs": [],
   "source": [
    "scene_pub = rospy.Publisher('planning_scene',\n",
    "                                         moveit_msgs.msg.PlanningScene,\n",
    "                                         queue_size=5)"
   ]
  },
  {
   "cell_type": "code",
   "execution_count": 16,
   "metadata": {
    "lang": "en"
   },
   "outputs": [],
   "source": [
    "from move_base_msgs.msg import MoveBaseAction, MoveBaseGoal\n",
    "from geometry_msgs.msg import PoseStamped, Point , Quaternion\n",
    "from actionlib_msgs.msg import GoalStatus"
   ]
  },
  {
   "cell_type": "code",
   "execution_count": 17,
   "metadata": {},
   "outputs": [
    {
     "data": {
      "text/plain": [
       "['odom_y',\n",
       " 'odom_x',\n",
       " 'odom_r',\n",
       " 'arm_lift_joint',\n",
       " 'arm_flex_joint',\n",
       " 'arm_roll_joint',\n",
       " 'wrist_flex_joint',\n",
       " 'wrist_roll_joint',\n",
       " 'wrist_ft_sensor_frame_joint']"
      ]
     },
     "execution_count": 17,
     "metadata": {},
     "output_type": "execute_result"
    }
   ],
   "source": [
    "\"\"\"pose_tray_1\n",
    "\n",
    "frame_id: \"odom\"\n",
    "pose: \n",
    "  position: \n",
    "    x: 2.07474262655\n",
    "    y: -0.463993086819\n",
    "    z: 0.470428742931\n",
    "  orientation: \n",
    "    x: 0.787825948964\n",
    "    y: -0.583793844356\n",
    "    z: 0.156526059701\n",
    "    w: 0.118383335252\"\"\"\n",
    "whole_body.get_active_joints()"
   ]
  },
  {
   "cell_type": "markdown",
   "metadata": {},
   "source": [
    "<a id='start'></a>"
   ]
  },
  {
   "cell_type": "code",
   "execution_count": 63,
   "metadata": {},
   "outputs": [
    {
     "data": {
      "text/plain": [
       "True"
      ]
     },
     "execution_count": 63,
     "metadata": {},
     "output_type": "execute_result"
    }
   ],
   "source": [
    "goal_x , goal_y,goal_yaw= kl_mess1# 1.04,0.3,1.57   #Known location mess 1\n",
    " \n",
    "#goal_x , goal_y,goal_yaw= kl_drawers\n",
    "scene.remove_world_object()\n",
    "#Takeshi neutral\n",
    "move_hand(0)\n",
    "arm.set_named_target('go')\n",
    "arm.go()\n",
    "head.set_named_target('neutral')\n",
    "head.go()\n",
    "move_base_goal(goal_x,goal_y,goal_yaw)\n"
   ]
  },
  {
   "cell_type": "code",
   "execution_count": 44,
   "metadata": {},
   "outputs": [
    {
     "name": "stdout",
     "output_type": "stream",
     "text": [
      "('look at the phi angle  in normal vector', -45.10705326217848)\n",
      "(44.92074868987694, 'if this degree is not the same as head tilt plane was not found')\n"
     ]
    },
    {
     "data": {
      "text/plain": [
       "True"
      ]
     },
     "execution_count": 44,
     "metadata": {},
     "output_type": "execute_result"
    },
    {
     "data": {
      "image/png": "[encoded data removed]",
      "text/plain": [
       "<Figure size 432x288 with 1 Axes>"
      ]
     },
     "metadata": {
      "needs_background": "light"
     },
     "output_type": "display_data"
    }
   ],
   "source": [
    "move_base_goal(goal_x,goal_y,goal_yaw)\n",
    "#move_base_goal(2.2,4.0,goal_yaw)\n",
    "wb=whole_body.get_current_joint_values()\n",
    "#wb[3]+=0.6\n",
    "#whole_body.go(wb)\n",
    "head_val=head.get_current_joint_values()\n",
    "head_val[0]=np.deg2rad(0)\n",
    "head_val[1]=np.deg2rad(-45)\n",
    "\n",
    "head.go(head_val)\n",
    "\n",
    "trans , rot = listener.lookupTransform('/map', '/head_rgbd_sensor_gazebo_frame', rospy.Time(0))\n",
    "\n",
    "euler=tf.transformations.euler_from_quaternion(rot)\n",
    "\n",
    "trans, euler\n",
    "\n",
    "#cents=segment_shelf(2)\n",
    "cents=segment_floor()\n",
    "arm.go(arm_grasp_floor)\n"
   ]
  },
  {
   "cell_type": "code",
   "execution_count": 45,
   "metadata": {},
   "outputs": [],
   "source": [
    "#cents=segment_shelf(2)\n",
    "\n",
    "\n",
    "\n",
    "if len (cents!=0):\n",
    "    static_tf_publish(cents)\n",
    "\n",
    "    "
   ]
  },
  {
   "cell_type": "code",
   "execution_count": null,
   "metadata": {},
   "outputs": [],
   "source": []
  },
  {
   "cell_type": "code",
   "execution_count": 48,
   "metadata": {},
   "outputs": [
    {
     "data": {
      "text/plain": [
       "array([[-0.33692312, -0.12693064,  1.4543636 ],\n",
       "       [ 0.2565492 , -0.2997962 ,  1.6435611 ],\n",
       "       [-0.15203953, -0.20418938,  1.3927869 ],\n",
       "       [-0.05760454, -0.46423554,  1.6402762 ]], dtype=float32)"
      ]
     },
     "execution_count": 48,
     "metadata": {},
     "output_type": "execute_result"
    }
   ],
   "source": []
  },
  {
   "cell_type": "code",
   "execution_count": 47,
   "metadata": {},
   "outputs": [
    {
     "data": {
      "text/plain": [
       "True"
      ]
     },
     "execution_count": 47,
     "metadata": {},
     "output_type": "execute_result"
    }
   ],
   "source": [
    "publish_scene()\n",
    "arm.go(arm_grasp_floor)\n",
    "move_hand(1)"
   ]
  },
  {
   "cell_type": "code",
   "execution_count": 49,
   "metadata": {},
   "outputs": [],
   "source": [
    "trans_cents=[]\n",
    "for i,cent in enumerate(cents):\n",
    "    trans_map,_= listener.lookupTransform('/map', 'static'+str(i),rospy.Time(0))\n",
    "    trans_cents.append(trans_map)\n",
    "        \n",
    "\n",
    "np.linalg.norm(np.asarray(trans_cents)- trans , axis=1)\n",
    "closest_cent=np.argmin(np.linalg.norm(np.asarray(trans_cents)- trans , axis=1))\n",
    "\n"
   ]
  },
  {
   "cell_type": "code",
   "execution_count": 50,
   "metadata": {},
   "outputs": [
    {
     "data": {
      "text/plain": [
       "array([1.47842887, 1.69929494, 1.47878876, 1.83137544])"
      ]
     },
     "execution_count": 50,
     "metadata": {},
     "output_type": "execute_result"
    }
   ],
   "source": [
    "np.asarray(trans_cents).T[1]"
   ]
  },
  {
   "cell_type": "code",
   "execution_count": 52,
   "metadata": {},
   "outputs": [
    {
     "data": {
      "text/plain": [
       "([0.17945733367768374, 0.05999422574912838, 0.7208421200770692],\n",
       " [0.5093715226899045,\n",
       "  0.5610717167887345,\n",
       "  0.4267793025466428,\n",
       "  0.4935570964033557])"
      ]
     },
     "execution_count": 52,
     "metadata": {},
     "output_type": "execute_result"
    }
   ],
   "source": [
    "trans_hand,rot_hand= listener.lookupTransform('/hand_palm_link', 'static'+str(closest_cent),rospy.Time(0))\n",
    "trans_hand,rot_hand"
   ]
  },
  {
   "cell_type": "code",
   "execution_count": 57,
   "metadata": {},
   "outputs": [
    {
     "data": {
      "text/plain": [
       "True"
      ]
     },
     "execution_count": 57,
     "metadata": {},
     "output_type": "execute_result"
    }
   ],
   "source": [
    "wb=whole_body.get_current_joint_values()\n",
    "wb[0] += trans_hand[2] -0.1\n",
    "wb[1] += trans_hand[1]-.05\n",
    "whole_body.go(wb)\n",
    "\n"
   ]
  },
  {
   "cell_type": "code",
   "execution_count": null,
   "metadata": {},
   "outputs": [],
   "source": []
  },
  {
   "cell_type": "code",
   "execution_count": 58,
   "metadata": {},
   "outputs": [
    {
     "data": {
      "text/plain": [
       "([0.10082344625701184, 0.11563421181344646, 0.13797257632255455],\n",
       " [0.574740592461605,\n",
       "  0.502739013251224,\n",
       "  0.4752163763167631,\n",
       "  0.4371454353100726])"
      ]
     },
     "execution_count": 58,
     "metadata": {},
     "output_type": "execute_result"
    }
   ],
   "source": [
    "trans_hand,rot_hand= listener.lookupTransform('/hand_palm_link', 'static'+str(closest_cent),rospy.Time(0))\n",
    "trans_hand,rot_hand"
   ]
  },
  {
   "cell_type": "code",
   "execution_count": 59,
   "metadata": {},
   "outputs": [
    {
     "data": {
      "text/plain": [
       "True"
      ]
     },
     "execution_count": 59,
     "metadata": {},
     "output_type": "execute_result"
    }
   ],
   "source": [
    "wb=whole_body.get_current_joint_values()\n",
    "wb[0]+=trans_hand[2]-.05\n",
    "wb[1]+=trans_hand[1]\n",
    "whole_body.go(wb)"
   ]
  },
  {
   "cell_type": "code",
   "execution_count": 60,
   "metadata": {},
   "outputs": [
    {
     "data": {
      "text/plain": [
       "([0.08483585453504422, -0.050077705896776736, 0.05675283727491043],\n",
       " [0.5899288882158878,\n",
       "  0.4876505247220234,\n",
       "  0.4856172616422093,\n",
       "  0.422323037237875])"
      ]
     },
     "execution_count": 60,
     "metadata": {},
     "output_type": "execute_result"
    }
   ],
   "source": [
    "trans_hand,rot_hand= listener.lookupTransform('/hand_palm_link', 'static'+str(closest_cent),rospy.Time(0))\n",
    "trans_hand,rot_hand"
   ]
  },
  {
   "cell_type": "code",
   "execution_count": 61,
   "metadata": {},
   "outputs": [
    {
     "name": "stdout",
     "output_type": "stream",
     "text": [
      "grasp seems to have failed\n"
     ]
    },
    {
     "data": {
      "text/plain": [
       "[0.03258612113411008,\n",
       " -0.1099329278824828,\n",
       " 0.0229329278824828,\n",
       " 0.0001547896187021891,\n",
       " -0.1099329278824828]"
      ]
     },
     "execution_count": 61,
     "metadata": {},
     "output_type": "execute_result"
    }
   ],
   "source": [
    "move_hand(0)\n",
    "ungrasped=[-0.00047048998088961014,\n",
    " -0.03874743486886725,\n",
    " -0.04825256513113274,\n",
    " 0.038463464485261056,\n",
    " -0.03874743486886725]\n",
    "grasped=[0.12814103131904275,\n",
    " -0.30672794406396453,\n",
    " 0.21972794406396456,\n",
    " 0.13252877558892262,\n",
    " -0.30672794406396453]\n",
    "a=gripper.get_current_joint_values()\n",
    "if     np.linalg.norm(a-np.asarray(grasped))  >  (np.linalg.norm(a-np.asarray(ungrasped))):\n",
    "    print ('grasp seems to have failed')\n",
    "else:\n",
    "    print('super primitive fgrasp detector points towards succesfull ')\n",
    "    wb=whole_body.get_current_joint_values()\n",
    "    wb[0]+=trans_hand[2]-.3\n",
    "    \n",
    "    whole_body.go(wb)\n",
    "a\n"
   ]
  },
  {
   "cell_type": "code",
   "execution_count": 62,
   "metadata": {},
   "outputs": [
    {
     "data": {
      "text/plain": [
       "True"
      ]
     },
     "execution_count": 62,
     "metadata": {},
     "output_type": "execute_result"
    }
   ],
   "source": [
    "\n",
    "\n",
    "#move_hand(0)\n",
    "#Takeshi neutral\n",
    "arm.set_named_target('go')\n",
    "arm.go()\n",
    "head.set_named_target('neutral')\n",
    "head.go()"
   ]
  },
  {
   "cell_type": "code",
   "execution_count": null,
   "metadata": {},
   "outputs": [],
   "source": [
    "goal_x , goal_y,goal_yaw=  kl_tray  #1.84,0.0,-90  #Known location tray 1\n",
    "move_base_goal(goal_x,goal_y,-90)\n",
    "publish_scene()"
   ]
  },
  {
   "cell_type": "code",
   "execution_count": null,
   "metadata": {},
   "outputs": [],
   "source": [
    "arm.set_joint_value_target(arm_ready_to_place)\n",
    "arm.go()\n",
    "\n",
    "wb=whole_body.get_current_joint_values()\n",
    "wb[0]+=-0.45\n",
    "wb[4]+=-.3\n",
    "whole_body.set_joint_value_target(wb)\n",
    "whole_body.go()\n"
   ]
  },
  {
   "cell_type": "code",
   "execution_count": null,
   "metadata": {},
   "outputs": [],
   "source": [
    "move_hand(1)\n",
    "\n",
    "wb=whole_body.get_current_joint_values()\n",
    "wb[0]+=0.3\n",
    "\n",
    "whole_body.set_joint_value_target(wb)\n",
    "whole_body.go()\n"
   ]
  },
  {
   "cell_type": "code",
   "execution_count": null,
   "metadata": {},
   "outputs": [],
   "source": [
    "#REPEAT AS LONG AS THERE ARE GRASPABLE OBJECTS\n"
   ]
  },
  {
   "cell_type": "markdown",
   "metadata": {},
   "source": [
    "<a id='repeat'></a>\n"
   ]
  },
  {
   "cell_type": "code",
   "execution_count": 64,
   "metadata": {},
   "outputs": [
    {
     "data": {
      "text/plain": [
       "True"
      ]
     },
     "execution_count": 64,
     "metadata": {},
     "output_type": "execute_result"
    }
   ],
   "source": [
    "scene.remove_world_object()\n",
    "goal_x,goal_y,goal_yaw=kl_table1\n",
    "move_hand(0)\n",
    "#Takeshi neutral\n",
    "arm.set_named_target('go')\n",
    "arm.go()\n",
    "head.set_named_target('neutral')\n",
    "head.go()\n",
    "move_base_goal(goal_x+.4,goal_y,goal_yaw)  "
   ]
  },
  {
   "cell_type": "code",
   "execution_count": 65,
   "metadata": {},
   "outputs": [
    {
     "data": {
      "text/plain": [
       "([1.3448786833388098, 1.3463854572218834, 0.9603631366891398],\n",
       " (-4.8965937686568224e-12, 0.7875652936472152, 1.543118820481657))"
      ]
     },
     "execution_count": 65,
     "metadata": {},
     "output_type": "execute_result"
    }
   ],
   "source": [
    "#moveit\n",
    "#MOVE IT MUST BE RUNNING. DECLARE A HEAD POSE\n",
    "head_val=head.get_current_joint_values()\n",
    "head_val[0]=np.deg2rad(0)\n",
    "head_val[1]=np.deg2rad(-45)\n",
    "#WATCH OUT FOR JOINTS LIMITS (exorcist joke)\n",
    "#plan and execute target pose\n",
    "head.set_joint_value_target(head_val)\n",
    "head.go()\n",
    "### GET TF (REFERENCE FRAME FOR XTION SENSOR )\n",
    "trans , rot = listener.lookupTransform('/map', '/head_rgbd_sensor_gazebo_frame', rospy.Time(0))\n",
    "\n",
    "euler=tf.transformations.euler_from_quaternion(rot)\n",
    "\n",
    "trans, euler"
   ]
  },
  {
   "cell_type": "code",
   "execution_count": 66,
   "metadata": {
    "scrolled": true
   },
   "outputs": [
    {
     "name": "stdout",
     "output_type": "stream",
     "text": [
      "('contour', 1, 'area', 2039.0)\n",
      "(406, 316, 59, 68)\n",
      "('cX,cY', 435, 343)\n",
      "('contour', 2, 'area', 2852.5)\n",
      "(238, 224, 55, 69)\n",
      "('cX,cY', 265, 256)\n"
     ]
    },
    {
     "data": {
      "image/png": "[encoded data removed]",
      "text/plain": [
       "<Figure size 432x288 with 1 Axes>"
      ]
     },
     "metadata": {
      "needs_background": "light"
     },
     "output_type": "display_data"
    }
   ],
   "source": [
    "cents=segment_table2(0)\n"
   ]
  },
  {
   "cell_type": "code",
   "execution_count": 67,
   "metadata": {},
   "outputs": [
    {
     "data": {
      "text/plain": [
       "array([[ 0.13447294,  0.12761658,  0.64554876],\n",
       "       [-0.0708522 ,  0.02362496,  0.72040975]], dtype=float32)"
      ]
     },
     "execution_count": 67,
     "metadata": {},
     "output_type": "execute_result"
    }
   ],
   "source": [
    "static_tf_publish(cents)\n",
    "cents"
   ]
  },
  {
   "cell_type": "code",
   "execution_count": 68,
   "metadata": {},
   "outputs": [
    {
     "name": "stdout",
     "output_type": "stream",
     "text": [
      "0\n"
     ]
    }
   ],
   "source": [
    "trans_cents=[]\n",
    "for i,cent in enumerate(cents):\n",
    "    trans_map,_= listener.lookupTransform('/map', 'static'+str(i),rospy.Time(0))\n",
    "    trans_cents.append(trans_map)\n",
    "        \n",
    "\n",
    "np.linalg.norm(np.asarray(trans_cents)- trans , axis=1)\n",
    "closest_cent=np.argmin(np.linalg.norm(np.asarray(trans_cents)- trans , axis=1))\n",
    "\n",
    "print(closest_cent)"
   ]
  },
  {
   "cell_type": "code",
   "execution_count": 69,
   "metadata": {},
   "outputs": [
    {
     "data": {
      "text/plain": [
       "True"
      ]
     },
     "execution_count": 69,
     "metadata": {},
     "output_type": "execute_result"
    }
   ],
   "source": [
    "# 1.04,0.3,1.57   #Known location mess 1\n",
    "kl_table2= [0 , 1.29,90] \n",
    "kl_table1= [1.04 , 1.29,90] \n",
    "goal_x , goal_y,goal_yaw= kl_table2\n",
    "\n",
    "#Takeshi neutral\n",
    "move_hand(0)\n",
    "arm.set_named_target('go')\n",
    "arm.go()\n",
    "move_base_goal(goal_x ,goal_y,goal_yaw)\n",
    "head_val=head.get_current_joint_values()\n",
    "head_val[0]=np.deg2rad(0)\n",
    "head_val[1]=np.deg2rad(-35)\n",
    "\n",
    "head.go(head_val)"
   ]
  },
  {
   "cell_type": "code",
   "execution_count": 70,
   "metadata": {},
   "outputs": [
    {
     "ename": "TypeError",
     "evalue": "segment_table2() takes exactly 1 argument (0 given)",
     "output_type": "error",
     "traceback": [
      "\u001b[0;31m\u001b[0m",
      "\u001b[0;31mTypeError\u001b[0mTraceback (most recent call last)",
      "\u001b[0;32m<ipython-input-70-4917223d7d11>\u001b[0m in \u001b[0;36m<module>\u001b[0;34m()\u001b[0m\n\u001b[0;32m----> 1\u001b[0;31m \u001b[0mcents\u001b[0m\u001b[0;34m=\u001b[0m\u001b[0msegment_table2\u001b[0m\u001b[0;34m(\u001b[0m\u001b[0;34m)\u001b[0m\u001b[0;34m\u001b[0m\u001b[0m\n\u001b[0m\u001b[1;32m      2\u001b[0m \u001b[0mstatic_tf_publish\u001b[0m\u001b[0;34m(\u001b[0m\u001b[0mcents\u001b[0m\u001b[0;34m)\u001b[0m\u001b[0;34m\u001b[0m\u001b[0m\n",
      "\u001b[0;31mTypeError\u001b[0m: segment_table2() takes exactly 1 argument (0 given)"
     ]
    }
   ],
   "source": [
    "cents=segment_table2()\n",
    "static_tf_publish(cents)"
   ]
  },
  {
   "cell_type": "code",
   "execution_count": null,
   "metadata": {},
   "outputs": [],
   "source": [
    "wb=whole_body.get_current_joint_values()\n",
    "wb[3]+=.2\n",
    "whole_body.go(wb)\n"
   ]
  },
  {
   "cell_type": "code",
   "execution_count": null,
   "metadata": {},
   "outputs": [],
   "source": [
    "publish_scene()\n",
    "move_hand(1)\n",
    "\n",
    "#arm.set_joint_value_target(arm_grasp_from_above)\n",
    "#arm.set_joint_value_target(arm_grasp_floor)\n",
    "arm.set_joint_value_target(arm_grasp_table)\n",
    "arm.go()\n",
    "\n"
   ]
  },
  {
   "cell_type": "code",
   "execution_count": null,
   "metadata": {},
   "outputs": [],
   "source": [
    "trans_hand,rot_hand= listener.lookupTransform('/hand_palm_link', 'static'+str(closest_cent),rospy.Time(0))\n",
    "trans_hand,rot_hand"
   ]
  },
  {
   "cell_type": "code",
   "execution_count": null,
   "metadata": {},
   "outputs": [],
   "source": [
    "wb=whole_body.get_current_joint_values()\n",
    "wb[0]+=trans_hand[2]-.07\n",
    "wb[1]+=trans_hand[1]\n",
    "wb[3]+=trans_hand[0]+.05\n",
    "whole_body.go(wb)"
   ]
  },
  {
   "cell_type": "code",
   "execution_count": null,
   "metadata": {},
   "outputs": [],
   "source": [
    "trans_hand,rot_hand= listener.lookupTransform('/hand_palm_link', 'static0',rospy.Time(0))\n",
    "trans_hand,rot_hand"
   ]
  },
  {
   "cell_type": "code",
   "execution_count": null,
   "metadata": {},
   "outputs": [],
   "source": [
    "wb=whole_body.get_current_joint_values()\n",
    "wb[0]+=trans_hand[2]-.07\n",
    "wb[1]+=trans_hand[1]\n",
    "wb[3]+=trans_hand[0]\n",
    "whole_body.go(wb)"
   ]
  },
  {
   "cell_type": "code",
   "execution_count": null,
   "metadata": {},
   "outputs": [],
   "source": [
    "trans_hand,rot_hand= listener.lookupTransform('/hand_palm_link', 'static0',rospy.Time(0))\n",
    "trans_hand,rot_hand"
   ]
  },
  {
   "cell_type": "code",
   "execution_count": null,
   "metadata": {},
   "outputs": [],
   "source": [
    "scene.remove_world_object()\n"
   ]
  },
  {
   "cell_type": "code",
   "execution_count": null,
   "metadata": {},
   "outputs": [],
   "source": [
    "wb=whole_body.get_current_joint_values()\n",
    "wb[0]+=trans_hand[2]-.07\n",
    "wb[1]+=trans_hand[1]\n",
    "wb[3]+=trans_hand[0]\n",
    "whole_body.go(wb)"
   ]
  },
  {
   "cell_type": "code",
   "execution_count": null,
   "metadata": {},
   "outputs": [],
   "source": [
    "move_hand(0)\n",
    "ungrasped=[-0.00047048998088961014,\n",
    " -0.03874743486886725,\n",
    " -0.04825256513113274,\n",
    " 0.038463464485261056,\n",
    " -0.03874743486886725]\n",
    "grasped=[0.12814103131904275,\n",
    " -0.30672794406396453,\n",
    " 0.21972794406396456,\n",
    " 0.13252877558892262,\n",
    " -0.30672794406396453]\n",
    "a=gripper.get_current_joint_values()\n",
    "if     np.linalg.norm(a-np.asarray(grasped))  >  (np.linalg.norm(a-np.asarray(ungrasped))):\n",
    "    print ('grasp seems to have failed')\n",
    "else:\n",
    "    print('assuming succesful grasp')\n",
    "    wb=whole_body.get_current_joint_values()\n",
    "    wb[0]+=-0.2\n",
    "    wb[3]+=0.2\n",
    "    whole_body.set_joint_value_target(wb)\n",
    "    whole_body.go()\n"
   ]
  },
  {
   "cell_type": "code",
   "execution_count": null,
   "metadata": {},
   "outputs": [],
   "source": [
    "publish_scene()\n"
   ]
  },
  {
   "cell_type": "code",
   "execution_count": null,
   "metadata": {},
   "outputs": [],
   "source": [
    "\n",
    "#move_hand(0)\n",
    "#Takeshi neutral\n",
    "arm.set_named_target('go')\n",
    "arm.go()\n",
    "head.set_named_target('neutral')\n",
    "head.go()"
   ]
  },
  {
   "cell_type": "code",
   "execution_count": null,
   "metadata": {},
   "outputs": [],
   "source": [
    "goal_x , goal_y,goal_yaw=  kl_box1  #1.84,0.0,-90  #Known location tray 1\n",
    "move_base_goal(goal_x,goal_y,-90)\n",
    "publish_scene()"
   ]
  },
  {
   "cell_type": "code",
   "execution_count": null,
   "metadata": {},
   "outputs": [],
   "source": [
    "arm.set_joint_value_target(arm_ready_to_place)\n",
    "arm.go()\n",
    "\n",
    "wb=whole_body.get_current_joint_values()\n",
    "wb[0]+=-0.6\n",
    "wb[4]+=-.3\n",
    "whole_body.set_joint_value_target(wb)\n",
    "whole_body.go()\n"
   ]
  },
  {
   "cell_type": "code",
   "execution_count": null,
   "metadata": {},
   "outputs": [],
   "source": [
    "move_hand(1)\n",
    "\n",
    "wb=whole_body.get_current_joint_values()\n",
    "wb[0]+=0.3\n",
    "\n",
    "whole_body.set_joint_value_target(wb)\n",
    "whole_body.go()\n"
   ]
  },
  {
   "cell_type": "markdown",
   "metadata": {},
   "source": [
    "[START](#start)\n"
   ]
  },
  {
   "cell_type": "markdown",
   "metadata": {},
   "source": [
    "[REPEAT](#repeat)"
   ]
  },
  {
   "cell_type": "code",
   "execution_count": null,
   "metadata": {},
   "outputs": [],
   "source": [
    "###Run again the appropriate blocks to try to look for legos on the way\n",
    "\n",
    "\n",
    "###CAn you navigate through?\n",
    "\n",
    "### Can we pick em up?\n",
    "\n",
    "\n",
    "#PLEASE TRY THINGS HERE\n"
   ]
  },
  {
   "cell_type": "code",
   "execution_count": null,
   "metadata": {},
   "outputs": [],
   "source": [
    "\n",
    "wb=whole_body.get_current_joint_values()\n",
    "\n",
    "wb[3]+=0.2\n",
    "whole_body.set_joint_value_target(wb)\n",
    "whole_body.go()"
   ]
  },
  {
   "cell_type": "code",
   "execution_count": null,
   "metadata": {},
   "outputs": [],
   "source": [
    "\"\"\"\n",
    "pose_goal=whole_body.get_current_pose()\n",
    "pose_goal.pose.position.x = xyz_map[0]\n",
    "pose_goal.pose.position.y = xyz_map[1]\n",
    "pose_goal.pose.position.z = xyz_map[2]+.06#.0155\n",
    "whole_body.set_pose_target(pose_goal)\n",
    "whole_body.go()\"\"\""
   ]
  },
  {
   "cell_type": "code",
   "execution_count": null,
   "metadata": {},
   "outputs": [],
   "source": [
    "\"\"\"a=arm.get_current_pose()\n",
    "a.pose.position.z=xyz_map[0]\n",
    "a.pose.position.z=xyz_map[1]\n",
    "a.pose.position.z=0.05\n",
    "arm.set_pose_target(a)\n",
    "succ=arm.go()\n",
    "succ\"\"\""
   ]
  },
  {
   "cell_type": "code",
   "execution_count": null,
   "metadata": {},
   "outputs": [],
   "source": []
  },
  {
   "cell_type": "code",
   "execution_count": null,
   "metadata": {},
   "outputs": [],
   "source": [
    "\n",
    "move_hand(0)\n",
    "#Takeshi neutral\n",
    "arm.set_named_target('go')\n",
    "arm.go()\n",
    "head.set_named_target('neutral')\n",
    "head.go()"
   ]
  },
  {
   "cell_type": "code",
   "execution_count": null,
   "metadata": {},
   "outputs": [],
   "source": [
    "### rubbish from here on.... \n"
   ]
  },
  {
   "cell_type": "code",
   "execution_count": null,
   "metadata": {},
   "outputs": [],
   "source": [
    "whole_body.set_joint_value_target(p)\n",
    "whole_body.go()"
   ]
  },
  {
   "cell_type": "code",
   "execution_count": null,
   "metadata": {},
   "outputs": [],
   "source": [
    "pose_goal=whole_body.get_current_pose()\n",
    "pose_goal"
   ]
  },
  {
   "cell_type": "code",
   "execution_count": null,
   "metadata": {},
   "outputs": [],
   "source": [
    "move_hand(1)"
   ]
  },
  {
   "cell_type": "code",
   "execution_count": null,
   "metadata": {},
   "outputs": [],
   "source": [
    "whole_body.clear_pose_targets()\n",
    "pose_goal=whole_body.get_current_pose()\n",
    "pose_goal.pose.position.x = xyz_map[0]\n",
    "pose_goal.pose.position.y = xyz_map[1]\n",
    "pose_goal.pose.position.z = xyz_map[2]+.16\n",
    "whole_body.set_pose_target(pose_goal)\n",
    "whole_body.set_goal_tolerance(.001)\n",
    "whole_body.allow_looking(True)\n",
    "\n",
    "whole_body.go()\n",
    "    "
   ]
  },
  {
   "cell_type": "code",
   "execution_count": null,
   "metadata": {},
   "outputs": [],
   "source": [
    "for i in range(15):\n",
    "    whole_body.set_pose_target(pose_goal)\n",
    "    whole_body.go()"
   ]
  },
  {
   "cell_type": "code",
   "execution_count": null,
   "metadata": {},
   "outputs": [],
   "source": [
    "move_hand(0)"
   ]
  },
  {
   "cell_type": "code",
   "execution_count": null,
   "metadata": {},
   "outputs": [],
   "source": [
    "for i in range(5):\n",
    "    #whole_body.set_pose_target(pose_goal)\n",
    "    whole_body.go()"
   ]
  },
  {
   "cell_type": "code",
   "execution_count": null,
   "metadata": {},
   "outputs": [],
   "source": [
    "\n",
    "move_hand(0)\n",
    "#Takeshi neutral\n",
    "arm.set_named_target('go')\n",
    "arm.go()\n",
    "head.set_named_target('neutral')\n",
    "head.go()"
   ]
  },
  {
   "cell_type": "code",
   "execution_count": null,
   "metadata": {},
   "outputs": [],
   "source": [
    "\n",
    "\n",
    "#Takeshi neutral\n",
    "arm.set_named_target('go')\n",
    "arm.go()\n",
    "head.set_named_target('neutral')\n",
    "head.go()"
   ]
  },
  {
   "cell_type": "code",
   "execution_count": null,
   "metadata": {},
   "outputs": [],
   "source": [
    "\n",
    "arm.set_joint_value_target(arm_grasp_floor)\n",
    "arm.go()"
   ]
  },
  {
   "cell_type": "code",
   "execution_count": null,
   "metadata": {},
   "outputs": [],
   "source": [
    "\n",
    "arm.set_joint_value_target(arm_train_pose)\n"
   ]
  },
  {
   "cell_type": "code",
   "execution_count": null,
   "metadata": {},
   "outputs": [],
   "source": [
    "arm.go()"
   ]
  },
  {
   "cell_type": "code",
   "execution_count": null,
   "metadata": {},
   "outputs": [],
   "source": [
    "a=arm.get_current_joint_values()\n",
    "a[0]=-.3\n",
    "#a[-3]=-0.5*np.pi\n",
    "#arm.set_joint_value_target(a)\n",
    "#arm.go()\n"
   ]
  },
  {
   "cell_type": "code",
   "execution_count": null,
   "metadata": {},
   "outputs": [],
   "source": [
    "move_hand(1)\n"
   ]
  },
  {
   "cell_type": "code",
   "execution_count": null,
   "metadata": {},
   "outputs": [],
   "source": [
    "a=arm.get_current_joint_values()\n",
    "\n",
    "a[0]+=.1\n",
    "\n",
    "arm.set_joint_value_target(a)\n",
    "arm.go()"
   ]
  },
  {
   "cell_type": "code",
   "execution_count": null,
   "metadata": {},
   "outputs": [],
   "source": [
    "\n",
    "arm.set_joint_value_target(a)\n",
    "arm.go()\n",
    "#move_hand(0)\n"
   ]
  },
  {
   "cell_type": "code",
   "execution_count": null,
   "metadata": {},
   "outputs": [],
   "source": [
    "a=arm.get_current_pose()\n",
    "euler=tf.transformations.euler_from_quaternion((a.pose.orientation.x,a.pose.orientation.y,a.pose.orientation.z,a.pose.orientation.w))\n",
    "euler"
   ]
  },
  {
   "cell_type": "code",
   "execution_count": null,
   "metadata": {},
   "outputs": [],
   "source": [
    "#MOVE IT MUST BE RUNNING. DECLARE A HEAD POSE\n",
    "head_val=head.get_current_joint_values()\n",
    "head_val[0]=np.deg2rad(0)\n",
    "head_val[1]=np.deg2rad(-45)\n",
    "#WATCH OUT FOR JOINTS LIMITS (exorcist joke)\n",
    "#plan and execute target pose\n",
    "head.set_joint_value_target(head_val)\n",
    "head.go()"
   ]
  },
  {
   "cell_type": "code",
   "execution_count": null,
   "metadata": {},
   "outputs": [],
   "source": [
    "whole_body.get_current_joint_values()[:3] "
   ]
  },
  {
   "cell_type": "code",
   "execution_count": null,
   "metadata": {},
   "outputs": [],
   "source": [
    "whole_body.get_active_joints()"
   ]
  },
  {
   "cell_type": "code",
   "execution_count": null,
   "metadata": {},
   "outputs": [],
   "source": [
    "\n",
    "np.isclose(np.abs(cart2spher(nx,ny,nz))[2]-90 , 1.05   ,.1)"
   ]
  },
  {
   "cell_type": "code",
   "execution_count": null,
   "metadata": {},
   "outputs": [],
   "source": [
    "np.isclose(np.abs(np.rad2deg(cart2spher(nx,ny,nz))[2]-90),np.abs(np.rad2deg(euler)[1]),1)"
   ]
  },
  {
   "cell_type": "code",
   "execution_count": null,
   "metadata": {},
   "outputs": [],
   "source": [
    "scene.remove_world_object()"
   ]
  },
  {
   "cell_type": "code",
   "execution_count": null,
   "metadata": {},
   "outputs": [],
   "source": [
    "rot\n"
   ]
  },
  {
   "cell_type": "code",
   "execution_count": null,
   "metadata": {},
   "outputs": [],
   "source": [
    "tf.transformations.quaternion_from_euler(0,np.pi*.5,0)"
   ]
  },
  {
   "cell_type": "code",
   "execution_count": null,
   "metadata": {},
   "outputs": [],
   "source": [
    "gripper.get_active_joints()"
   ]
  },
  {
   "cell_type": "code",
   "execution_count": null,
   "metadata": {},
   "outputs": [],
   "source": [
    "cuv=gripper.get_current_joint_values()"
   ]
  },
  {
   "cell_type": "code",
   "execution_count": null,
   "metadata": {},
   "outputs": [],
   "source": [
    "gripper.get_current_joint_values()\n"
   ]
  },
  {
   "cell_type": "code",
   "execution_count": null,
   "metadata": {},
   "outputs": [],
   "source": [
    "gripper.allow_replanning()"
   ]
  },
  {
   "cell_type": "code",
   "execution_count": null,
   "metadata": {},
   "outputs": [],
   "source": [
    "cents"
   ]
  },
  {
   "cell_type": "code",
   "execution_count": null,
   "metadata": {},
   "outputs": [],
   "source": [
    "gripper.get_current_joint_values()"
   ]
  },
  {
   "cell_type": "code",
   "execution_count": null,
   "metadata": {},
   "outputs": [],
   "source": [
    "gripper.clear_pose_targets()\n"
   ]
  },
  {
   "cell_type": "code",
   "execution_count": null,
   "metadata": {},
   "outputs": [],
   "source": [
    "gripper.get_current_pose()"
   ]
  },
  {
   "cell_type": "code",
   "execution_count": null,
   "metadata": {},
   "outputs": [],
   "source": [
    "a=gripper.get_current_joint_values()\n",
    "if     np.linalg.norm(a-np.asarray(grasped))  >  (np.linalg.norm(a-np.asarray(ungrasped))):\n",
    "    print ('grasp seems to have failed')"
   ]
  },
  {
   "cell_type": "code",
   "execution_count": null,
   "metadata": {},
   "outputs": [],
   "source": [
    "\n",
    "ungrasped=[-0.00047048998088961014,\n",
    " -0.03874743486886725,\n",
    " -0.04825256513113274,\n",
    " 0.038463464485261056,\n",
    " -0.03874743486886725]\n",
    "\"\"\"grasped=[0.12814103131904275,\n",
    " -0.30672794406396453,\n",
    " 0.21972794406396456,\n",
    " 0.13252877558892262,\n",
    " -0.30672794406396453]\n",
    "\"\"\"\n",
    "grasped=[0.0432034, -0.1143983,  0.0273983,  0.0940839, -0.1143983]\n",
    "a=gripper.get_current_joint_values()\n",
    "if     np.linalg.norm(a-np.asarray(grasped))  >  (np.linalg.norm(a-np.asarray(ungrasped))):\n",
    "    print ('grasp seems to have failed')\n",
    "else:\n",
    "    print('super primitive fgrasp detector points towards succesfull ')\n"
   ]
  },
  {
   "cell_type": "raw",
   "metadata": {},
   "source": [
    "cuv\n"
   ]
  },
  {
   "cell_type": "code",
   "execution_count": null,
   "metadata": {},
   "outputs": [],
   "source": [
    "cuv=np.asarray(gripper.get_current_joint_values())\n",
    "cuv\n"
   ]
  },
  {
   "cell_type": "code",
   "execution_count": null,
   "metadata": {},
   "outputs": [],
   "source": [
    "cuv-grasped"
   ]
  },
  {
   "cell_type": "code",
   "execution_count": null,
   "metadata": {},
   "outputs": [],
   "source": [
    "gripper.get_active_joints()"
   ]
  },
  {
   "cell_type": "code",
   "execution_count": null,
   "metadata": {},
   "outputs": [],
   "source": [
    "move_hand(0)"
   ]
  },
  {
   "cell_type": "code",
   "execution_count": 29,
   "metadata": {},
   "outputs": [
    {
     "data": {
      "text/plain": [
       "['odom_y',\n",
       " 'odom_x',\n",
       " 'odom_r',\n",
       " 'arm_lift_joint',\n",
       " 'arm_flex_joint',\n",
       " 'arm_roll_joint',\n",
       " 'wrist_flex_joint',\n",
       " 'wrist_roll_joint',\n",
       " 'wrist_ft_sensor_frame_joint']"
      ]
     },
     "execution_count": 29,
     "metadata": {},
     "output_type": "execute_result"
    }
   ],
   "source": [
    "whole_body.get_active_joints()"
   ]
  },
  {
   "cell_type": "code",
   "execution_count": 9,
   "metadata": {},
   "outputs": [],
   "source": []
  },
  {
   "cell_type": "code",
   "execution_count": 41,
   "metadata": {},
   "outputs": [
    {
     "data": {
      "text/plain": [
       "True"
      ]
     },
     "execution_count": 41,
     "metadata": {},
     "output_type": "execute_result"
    }
   ],
   "source": [
    "publish_scene()"
   ]
  },
  {
   "cell_type": "code",
   "execution_count": 27,
   "metadata": {},
   "outputs": [],
   "source": [
    "scene.remove_world_object()\n"
   ]
  },
  {
   "cell_type": "code",
   "execution_count": 42,
   "metadata": {},
   "outputs": [
    {
     "data": {
      "text/plain": [
       "True"
      ]
     },
     "execution_count": 42,
     "metadata": {},
     "output_type": "execute_result"
    }
   ],
   "source": [
    "publish_scene()\n",
    "move_hand(1)\n",
    "\n",
    "#arm.set_joint_value_target(arm_grasp_from_above)\n",
    "#arm.set_joint_value_target(arm_grasp_floor)\n",
    "arm.set_joint_value_target(arm_grasp_table)\n",
    "arm.go()\n",
    "\n"
   ]
  },
  {
   "cell_type": "code",
   "execution_count": 26,
   "metadata": {},
   "outputs": [
    {
     "data": {
      "text/plain": [
       "False"
      ]
     },
     "execution_count": 26,
     "metadata": {},
     "output_type": "execute_result"
    }
   ],
   "source": [
    "arm.set_joint_value_target(arm_grasp_table)\n",
    "arm.go()\n"
   ]
  },
  {
   "cell_type": "code",
   "execution_count": 101,
   "metadata": {},
   "outputs": [
    {
     "data": {
      "text/plain": [
       "True"
      ]
     },
     "execution_count": 101,
     "metadata": {},
     "output_type": "execute_result"
    }
   ],
   "source": [
    "arm.set_named_target('go')\n",
    "arm.go()\n"
   ]
  },
  {
   "cell_type": "code",
   "execution_count": 69,
   "metadata": {},
   "outputs": [
    {
     "name": "stdout",
     "output_type": "stream",
     "text": [
      "('contour', 6, 'area', 1554.0)\n",
      "(277, 246, 47, 45)\n",
      "('cX,cY', 300, 267)\n"
     ]
    },
    {
     "data": {
      "text/plain": [
       "True"
      ]
     },
     "execution_count": 69,
     "metadata": {},
     "output_type": "execute_result"
    },
    {
     "data": {
      "image/png": "[encoded data removed]",
      "text/plain": [
       "<Figure size 432x288 with 1 Axes>"
      ]
     },
     "metadata": {
      "needs_background": "light"
     },
     "output_type": "display_data"
    }
   ],
   "source": [
    "#move_base_goal(goal_x,goal_y,goal_yaw)\n",
    "#move_base_goal(2.2,4.0,goal_yaw)\n",
    "arm.go(arm_grasp_floor)\n",
    "wb=whole_body.get_current_joint_values()\n",
    "wb[3]+=0.6\n",
    "whole_body.go(wb)\n",
    "head_val=head.get_current_joint_values()\n",
    "head_val[0]=np.deg2rad(0)\n",
    "head_val[1]=np.deg2rad(-30)\n",
    "\n",
    "head.go(head_val)\n",
    "\n",
    "trans , rot = listener.lookupTransform('/map', '/head_rgbd_sensor_gazebo_frame', rospy.Time(0))\n",
    "\n",
    "euler=tf.transformations.euler_from_quaternion(rot)\n",
    "\n",
    "trans, euler\n",
    "cents=segment_shelf(0)\n",
    "static_tf_publish(cents)"
   ]
  },
  {
   "cell_type": "code",
   "execution_count": 70,
   "metadata": {},
   "outputs": [
    {
     "name": "stdout",
     "output_type": "stream",
     "text": [
      "0\n"
     ]
    }
   ],
   "source": [
    "trans_cents=[]\n",
    "for i,cent in enumerate(cents):\n",
    "    trans_map,_= listener.lookupTransform('/map', 'static'+str(i),rospy.Time(0))\n",
    "    trans_cents.append(trans_map)\n",
    "        \n",
    "\n",
    "np.linalg.norm(np.asarray(trans_cents)- trans , axis=1)\n",
    "closest_cent=np.argmin(np.linalg.norm(np.asarray(trans_cents)- trans , axis=1))\n",
    "\n",
    "print(closest_cent)"
   ]
  },
  {
   "cell_type": "code",
   "execution_count": 79,
   "metadata": {},
   "outputs": [],
   "source": [
    "p = whole_body.get_current_pose()\n",
    "#p = PoseStamped()\n",
    "#p.header.frame_id = \"map\"       # \"head_rgbd_sensor_link\"\n",
    "    \n",
    "p.pose.position.x = trans_map[0]\n",
    "p.pose.position.y = trans_map[1]\n",
    "p.pose.position.z = trans_map[2]\n",
    "\n",
    "#p.pose.orientation.x = .5 * np.pi\n",
    "#p.pose.orientation.w = .5 * np.pi"
   ]
  },
  {
   "cell_type": "code",
   "execution_count": 80,
   "metadata": {},
   "outputs": [],
   "source": [
    "whole_body.clear_pose_targets()\n",
    "whole_body.set_pose_target(p)"
   ]
  },
  {
   "cell_type": "code",
   "execution_count": 100,
   "metadata": {},
   "outputs": [
    {
     "data": {
      "text/plain": [
       "joint_trajectory: \n",
       "  header: \n",
       "    seq: 0\n",
       "    stamp: \n",
       "      secs: 0\n",
       "      nsecs:         0\n",
       "    frame_id: ''\n",
       "  joint_names: []\n",
       "  points: []\n",
       "multi_dof_joint_trajectory: \n",
       "  header: \n",
       "    seq: 0\n",
       "    stamp: \n",
       "      secs: 0\n",
       "      nsecs:         0\n",
       "    frame_id: ''\n",
       "  joint_names: []\n",
       "  points: []"
      ]
     },
     "execution_count": 100,
     "metadata": {},
     "output_type": "execute_result"
    }
   ],
   "source": [
    "whole_body.plan()"
   ]
  },
  {
   "cell_type": "code",
   "execution_count": 102,
   "metadata": {},
   "outputs": [
    {
     "data": {
      "text/plain": [
       "True"
      ]
     },
     "execution_count": 102,
     "metadata": {},
     "output_type": "execute_result"
    }
   ],
   "source": [
    "arm.set_named_target('neutral')\n",
    "arm.go()\n"
   ]
  },
  {
   "cell_type": "code",
   "execution_count": 93,
   "metadata": {},
   "outputs": [
    {
     "data": {
      "text/plain": [
       "[0.062344790189310974,\n",
       " 0.038579156921203124,\n",
       " 11.131789624085416,\n",
       " -7.3506504408596745e-06,\n",
       " 9.22373859832959e-05,\n",
       " -1.56994768057776,\n",
       " -1.5728315741931045,\n",
       " -0.0005150823819395356,\n",
       " 0.0]"
      ]
     },
     "execution_count": 93,
     "metadata": {},
     "output_type": "execute_result"
    }
   ],
   "source": [
    "whole_body.get_current_joint_values()"
   ]
  },
  {
   "cell_type": "code",
   "execution_count": 39,
   "metadata": {},
   "outputs": [],
   "source": [
    "x,y,z=trans"
   ]
  },
  {
   "cell_type": "code",
   "execution_count": 40,
   "metadata": {},
   "outputs": [
    {
     "ename": "TypeError",
     "evalue": "set_pose_target() takes at most 3 arguments (8 given)",
     "output_type": "error",
     "traceback": [
      "\u001b[0;31m\u001b[0m",
      "\u001b[0;31mTypeError\u001b[0mTraceback (most recent call last)",
      "\u001b[0;32m<ipython-input-40-53ad1a4b5f62>\u001b[0m in \u001b[0;36m<module>\u001b[0;34m()\u001b[0m\n\u001b[0;32m----> 1\u001b[0;31m \u001b[0mwhole_body\u001b[0m\u001b[0;34m.\u001b[0m\u001b[0mset_pose_target\u001b[0m\u001b[0;34m(\u001b[0m\u001b[0mx\u001b[0m\u001b[0;34m,\u001b[0m\u001b[0my\u001b[0m\u001b[0;34m,\u001b[0m\u001b[0mz\u001b[0m\u001b[0;34m,\u001b[0m\u001b[0;36m0\u001b[0m\u001b[0;34m,\u001b[0m\u001b[0;36m0\u001b[0m\u001b[0;34m,\u001b[0m\u001b[0;36m0\u001b[0m\u001b[0;34m,\u001b[0m\u001b[0;36m1\u001b[0m\u001b[0;34m)\u001b[0m\u001b[0;34m\u001b[0m\u001b[0m\n\u001b[0m",
      "\u001b[0;31mTypeError\u001b[0m: set_pose_target() takes at most 3 arguments (8 given)"
     ]
    }
   ],
   "source": [
    "whole_body.set_pose_target(p)"
   ]
  },
  {
   "cell_type": "code",
   "execution_count": 41,
   "metadata": {},
   "outputs": [],
   "source": []
  },
  {
   "cell_type": "code",
   "execution_count": 47,
   "metadata": {},
   "outputs": [],
   "source": [
    "p=Pose()\n",
    "p.position.x=x\n",
    "p.position.y=y+.5\n",
    "p.position.z=z\n",
    "p.orientation.w=1"
   ]
  },
  {
   "cell_type": "code",
   "execution_count": 48,
   "metadata": {},
   "outputs": [],
   "source": [
    "whole_body.set_pose_target(p)"
   ]
  },
  {
   "cell_type": "code",
   "execution_count": null,
   "metadata": {},
   "outputs": [],
   "source": [
    "whole_body.go()"
   ]
  },
  {
   "cell_type": "code",
   "execution_count": 91,
   "metadata": {},
   "outputs": [
    {
     "data": {
      "text/plain": [
       "True"
      ]
     },
     "execution_count": 91,
     "metadata": {},
     "output_type": "execute_result"
    }
   ],
   "source": [
    "head.set_named_target('neutral')\n",
    "head.go()\n",
    "arm.set_named_target('neutral')\n",
    "arm.go()"
   ]
  },
  {
   "cell_type": "code",
   "execution_count": 103,
   "metadata": {},
   "outputs": [],
   "source": [
    "p=arm.get_current_pose()"
   ]
  },
  {
   "cell_type": "code",
   "execution_count": 115,
   "metadata": {},
   "outputs": [
    {
     "data": {
      "text/plain": [
       "False"
      ]
     },
     "execution_count": 115,
     "metadata": {},
     "output_type": "execute_result"
    }
   ],
   "source": [
    "p.pose.position.z=.3\n",
    "arm.set_pose_target(p)\n",
    "arm.go()"
   ]
  },
  {
   "cell_type": "code",
   "execution_count": 97,
   "metadata": {},
   "outputs": [],
   "source": [
    "whole_body.allow_looking(1)\n",
    "whole_body.allow_replanning(1)"
   ]
  },
  {
   "cell_type": "code",
   "execution_count": 100,
   "metadata": {},
   "outputs": [
    {
     "ename": "TypeError",
     "evalue": "clear_pose_target() takes exactly 2 arguments (1 given)",
     "output_type": "error",
     "traceback": [
      "\u001b[0;31m\u001b[0m",
      "\u001b[0;31mTypeError\u001b[0mTraceback (most recent call last)",
      "\u001b[0;32m<ipython-input-100-e7924fd0a919>\u001b[0m in \u001b[0;36m<module>\u001b[0;34m()\u001b[0m\n\u001b[1;32m      1\u001b[0m \u001b[0;34m\u001b[0m\u001b[0m\n\u001b[0;32m----> 2\u001b[0;31m \u001b[0mwhole_body\u001b[0m\u001b[0;34m.\u001b[0m\u001b[0mclear_pose_target\u001b[0m\u001b[0;34m(\u001b[0m\u001b[0;34m)\u001b[0m\u001b[0;34m\u001b[0m\u001b[0m\n\u001b[0m",
      "\u001b[0;31mTypeError\u001b[0m: clear_pose_target() takes exactly 2 arguments (1 given)"
     ]
    }
   ],
   "source": [
    "\n"
   ]
  },
  {
   "cell_type": "code",
   "execution_count": 1,
   "metadata": {},
   "outputs": [],
   "source": [
    "from utils_takeshi  import *"
   ]
  },
  {
   "cell_type": "code",
   "execution_count": 4,
   "metadata": {},
   "outputs": [
    {
     "ename": "NameError",
     "evalue": "global name 'scene' is not defined",
     "output_type": "error",
     "traceback": [
      "\u001b[0;31m\u001b[0m",
      "\u001b[0;31mNameError\u001b[0mTraceback (most recent call last)",
      "\u001b[0;32m<ipython-input-4-acb3c10cf103>\u001b[0m in \u001b[0;36m<module>\u001b[0;34m()\u001b[0m\n\u001b[0;32m----> 1\u001b[0;31m \u001b[0mpublish_scene\u001b[0m\u001b[0;34m(\u001b[0m\u001b[0;34m)\u001b[0m\u001b[0;34m\u001b[0m\u001b[0m\n\u001b[0m",
      "\u001b[0;32m/workspace/robocup_docker/notebooks_ours/utils_takeshi.pyc\u001b[0m in \u001b[0;36mpublish_scene\u001b[0;34m()\u001b[0m\n\u001b[1;32m    233\u001b[0m \u001b[0;34m\u001b[0m\u001b[0m\n\u001b[1;32m    234\u001b[0m \u001b[0;32mdef\u001b[0m \u001b[0mpublish_scene\u001b[0m\u001b[0;34m(\u001b[0m\u001b[0;34m)\u001b[0m\u001b[0;34m:\u001b[0m\u001b[0;34m\u001b[0m\u001b[0m\n\u001b[0;32m--> 235\u001b[0;31m     \u001b[0madd_object\u001b[0m\u001b[0;34m(\u001b[0m\u001b[0;34m\"shelf\"\u001b[0m\u001b[0;34m,\u001b[0m \u001b[0;34m[\u001b[0m\u001b[0;36m1.5\u001b[0m\u001b[0;34m,\u001b[0m \u001b[0;36m0.04\u001b[0m\u001b[0;34m,\u001b[0m \u001b[0;36m0.4\u001b[0m\u001b[0;34m]\u001b[0m\u001b[0;34m,\u001b[0m \u001b[0;34m[\u001b[0m\u001b[0;36m2.5\u001b[0m\u001b[0;34m,\u001b[0m \u001b[0;36m4.7\u001b[0m\u001b[0;34m,\u001b[0m \u001b[0;36m0.78\u001b[0m\u001b[0;34m]\u001b[0m\u001b[0;34m,\u001b[0m \u001b[0;34m[\u001b[0m\u001b[0;36m0.5\u001b[0m\u001b[0;34m,\u001b[0m \u001b[0;36m0.5\u001b[0m\u001b[0;34m]\u001b[0m\u001b[0;34m)\u001b[0m\u001b[0;34m\u001b[0m\u001b[0m\n\u001b[0m\u001b[1;32m    236\u001b[0m     \u001b[0madd_object\u001b[0m\u001b[0;34m(\u001b[0m\u001b[0;34m\"shelf1\"\u001b[0m\u001b[0;34m,\u001b[0m \u001b[0;34m[\u001b[0m\u001b[0;36m1.5\u001b[0m\u001b[0;34m,\u001b[0m \u001b[0;36m0.04\u001b[0m\u001b[0;34m,\u001b[0m \u001b[0;36m0.4\u001b[0m\u001b[0;34m]\u001b[0m\u001b[0;34m,\u001b[0m \u001b[0;34m[\u001b[0m\u001b[0;36m2.5\u001b[0m\u001b[0;34m,\u001b[0m \u001b[0;36m4.7\u001b[0m\u001b[0;34m,\u001b[0m \u001b[0;36m0.49\u001b[0m\u001b[0;34m]\u001b[0m\u001b[0;34m,\u001b[0m \u001b[0;34m[\u001b[0m\u001b[0;36m0.5\u001b[0m\u001b[0;34m,\u001b[0m \u001b[0;36m0.5\u001b[0m\u001b[0;34m]\u001b[0m\u001b[0;34m)\u001b[0m\u001b[0;34m\u001b[0m\u001b[0m\n\u001b[1;32m    237\u001b[0m     \u001b[0madd_object\u001b[0m\u001b[0;34m(\u001b[0m\u001b[0;34m\"shelf2\"\u001b[0m\u001b[0;34m,\u001b[0m \u001b[0;34m[\u001b[0m\u001b[0;36m1.5\u001b[0m\u001b[0;34m,\u001b[0m \u001b[0;36m0.04\u001b[0m\u001b[0;34m,\u001b[0m \u001b[0;36m0.4\u001b[0m\u001b[0;34m]\u001b[0m\u001b[0;34m,\u001b[0m \u001b[0;34m[\u001b[0m\u001b[0;36m2.5\u001b[0m\u001b[0;34m,\u001b[0m \u001b[0;36m4.7\u001b[0m\u001b[0;34m,\u001b[0m \u001b[0;36m0.18\u001b[0m\u001b[0;34m]\u001b[0m\u001b[0;34m,\u001b[0m \u001b[0;34m[\u001b[0m\u001b[0;36m0.5\u001b[0m\u001b[0;34m,\u001b[0m \u001b[0;36m0.5\u001b[0m\u001b[0;34m]\u001b[0m\u001b[0;34m)\u001b[0m\u001b[0;34m\u001b[0m\u001b[0m\n",
      "\u001b[0;32m/workspace/robocup_docker/notebooks_ours/utils_takeshi.pyc\u001b[0m in \u001b[0;36madd_object\u001b[0;34m(name, size, pose, orientation)\u001b[0m\n\u001b[1;32m    229\u001b[0m     \u001b[0mp\u001b[0m\u001b[0;34m.\u001b[0m\u001b[0mpose\u001b[0m\u001b[0;34m.\u001b[0m\u001b[0morientation\u001b[0m\u001b[0;34m.\u001b[0m\u001b[0mw\u001b[0m \u001b[0;34m=\u001b[0m \u001b[0morientation\u001b[0m\u001b[0;34m[\u001b[0m\u001b[0;36m1\u001b[0m\u001b[0;34m]\u001b[0m \u001b[0;34m*\u001b[0m \u001b[0mnp\u001b[0m\u001b[0;34m.\u001b[0m\u001b[0mpi\u001b[0m\u001b[0;34m\u001b[0m\u001b[0m\n\u001b[1;32m    230\u001b[0m \u001b[0;34m\u001b[0m\u001b[0m\n\u001b[0;32m--> 231\u001b[0;31m     \u001b[0mscene\u001b[0m\u001b[0;34m.\u001b[0m\u001b[0madd_box\u001b[0m\u001b[0;34m(\u001b[0m\u001b[0mname\u001b[0m\u001b[0;34m,\u001b[0m \u001b[0mp\u001b[0m\u001b[0;34m,\u001b[0m \u001b[0msize\u001b[0m\u001b[0;34m)\u001b[0m\u001b[0;34m\u001b[0m\u001b[0m\n\u001b[0m\u001b[1;32m    232\u001b[0m \u001b[0;34m\u001b[0m\u001b[0m\n\u001b[1;32m    233\u001b[0m \u001b[0;34m\u001b[0m\u001b[0m\n",
      "\u001b[0;31mNameError\u001b[0m: global name 'scene' is not defined"
     ]
    }
   ],
   "source": [
    "publish_scene()"
   ]
  },
  {
   "cell_type": "code",
   "execution_count": null,
   "metadata": {},
   "outputs": [],
   "source": []
  }
 ],
 "metadata": {
  "kernelspec": {
   "display_name": "Python 2",
   "language": "python",
   "name": "python2"
  },
  "language_info": {
   "codemirror_mode": {
    "name": "ipython",
    "version": 2
   },
   "file_extension": ".py",
   "mimetype": "text/x-python",
   "name": "python",
   "nbconvert_exporter": "python",
   "pygments_lexer": "ipython2",
   "version": "2.7.17"
  },
  "nbTranslate": {
   "displayLangs": [
    "ja"
   ],
   "hotkey": "alt-t",
   "langInMainMenu": true,
   "sourceLang": "ja",
   "targetLang": "en",
   "useGoogleTranslate": true
  },
  "toc": {
   "base_numbering": 1,
   "nav_menu": {},
   "number_sections": true,
   "sideBar": true,
   "skip_h1_title": false,
   "title_cell": "Table of Contents",
   "title_sidebar": "Contents",
   "toc_cell": false,
   "toc_position": {
    "height": "calc(100% - 180px)",
    "left": "10px",
    "top": "150px",
    "width": "165px"
   },
   "toc_section_display": true,
   "toc_window_display": true
  }
 },
 "nbformat": 4,
 "nbformat_minor": 2
}
